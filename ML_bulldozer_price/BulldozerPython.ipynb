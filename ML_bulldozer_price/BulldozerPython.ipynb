{
 "cells": [
  {
   "cell_type": "code",
   "execution_count": 1,
   "id": "37fafff8-7f3d-4311-bda1-1d1b92793bc6",
   "metadata": {},
   "outputs": [],
   "source": [
    "import pandas as pd\n",
    "import numpy as np\n",
    "import sklearn\n",
    "import matplotlib.pyplot as plt"
   ]
  },
  {
   "cell_type": "code",
   "execution_count": 2,
   "id": "dfef1e4a-1c12-47a9-a70d-9d93cbfa66bb",
   "metadata": {},
   "outputs": [],
   "source": [
    "df = pd.read_csv(\"data/TrainAndValid/TrainAndValid.csv\" , low_memory=False)"
   ]
  },
  {
   "cell_type": "code",
   "execution_count": 3,
   "id": "69c0aba7-df6f-4555-be09-d10df99223d3",
   "metadata": {},
   "outputs": [
    {
     "name": "stdout",
     "output_type": "stream",
     "text": [
      "<class 'pandas.core.frame.DataFrame'>\n",
      "RangeIndex: 412698 entries, 0 to 412697\n",
      "Data columns (total 53 columns):\n",
      " #   Column                    Non-Null Count   Dtype  \n",
      "---  ------                    --------------   -----  \n",
      " 0   SalesID                   412698 non-null  int64  \n",
      " 1   SalePrice                 412698 non-null  float64\n",
      " 2   MachineID                 412698 non-null  int64  \n",
      " 3   ModelID                   412698 non-null  int64  \n",
      " 4   datasource                412698 non-null  int64  \n",
      " 5   auctioneerID              392562 non-null  float64\n",
      " 6   YearMade                  412698 non-null  int64  \n",
      " 7   MachineHoursCurrentMeter  147504 non-null  float64\n",
      " 8   UsageBand                 73670 non-null   object \n",
      " 9   saledate                  412698 non-null  object \n",
      " 10  fiModelDesc               412698 non-null  object \n",
      " 11  fiBaseModel               412698 non-null  object \n",
      " 12  fiSecondaryDesc           271971 non-null  object \n",
      " 13  fiModelSeries             58667 non-null   object \n",
      " 14  fiModelDescriptor         74816 non-null   object \n",
      " 15  ProductSize               196093 non-null  object \n",
      " 16  fiProductClassDesc        412698 non-null  object \n",
      " 17  state                     412698 non-null  object \n",
      " 18  ProductGroup              412698 non-null  object \n",
      " 19  ProductGroupDesc          412698 non-null  object \n",
      " 20  Drive_System              107087 non-null  object \n",
      " 21  Enclosure                 412364 non-null  object \n",
      " 22  Forks                     197715 non-null  object \n",
      " 23  Pad_Type                  81096 non-null   object \n",
      " 24  Ride_Control              152728 non-null  object \n",
      " 25  Stick                     81096 non-null   object \n",
      " 26  Transmission              188007 non-null  object \n",
      " 27  Turbocharged              81096 non-null   object \n",
      " 28  Blade_Extension           25983 non-null   object \n",
      " 29  Blade_Width               25983 non-null   object \n",
      " 30  Enclosure_Type            25983 non-null   object \n",
      " 31  Engine_Horsepower         25983 non-null   object \n",
      " 32  Hydraulics                330133 non-null  object \n",
      " 33  Pushblock                 25983 non-null   object \n",
      " 34  Ripper                    106945 non-null  object \n",
      " 35  Scarifier                 25994 non-null   object \n",
      " 36  Tip_Control               25983 non-null   object \n",
      " 37  Tire_Size                 97638 non-null   object \n",
      " 38  Coupler                   220679 non-null  object \n",
      " 39  Coupler_System            44974 non-null   object \n",
      " 40  Grouser_Tracks            44875 non-null   object \n",
      " 41  Hydraulics_Flow           44875 non-null   object \n",
      " 42  Track_Type                102193 non-null  object \n",
      " 43  Undercarriage_Pad_Width   102916 non-null  object \n",
      " 44  Stick_Length              102261 non-null  object \n",
      " 45  Thumb                     102332 non-null  object \n",
      " 46  Pattern_Changer           102261 non-null  object \n",
      " 47  Grouser_Type              102193 non-null  object \n",
      " 48  Backhoe_Mounting          80712 non-null   object \n",
      " 49  Blade_Type                81875 non-null   object \n",
      " 50  Travel_Controls           81877 non-null   object \n",
      " 51  Differential_Type         71564 non-null   object \n",
      " 52  Steering_Controls         71522 non-null   object \n",
      "dtypes: float64(3), int64(5), object(45)\n",
      "memory usage: 166.9+ MB\n"
     ]
    }
   ],
   "source": [
    "df.info()"
   ]
  },
  {
   "cell_type": "code",
   "execution_count": 4,
   "id": "427ff7f8-17d6-4eab-852b-c473c71be655",
   "metadata": {},
   "outputs": [
    {
     "data": {
      "text/plain": [
       "SalesID                          0\n",
       "SalePrice                        0\n",
       "MachineID                        0\n",
       "ModelID                          0\n",
       "datasource                       0\n",
       "auctioneerID                 20136\n",
       "YearMade                         0\n",
       "MachineHoursCurrentMeter    265194\n",
       "UsageBand                   339028\n",
       "saledate                         0\n",
       "fiModelDesc                      0\n",
       "fiBaseModel                      0\n",
       "fiSecondaryDesc             140727\n",
       "fiModelSeries               354031\n",
       "fiModelDescriptor           337882\n",
       "ProductSize                 216605\n",
       "fiProductClassDesc               0\n",
       "state                            0\n",
       "ProductGroup                     0\n",
       "ProductGroupDesc                 0\n",
       "Drive_System                305611\n",
       "Enclosure                      334\n",
       "Forks                       214983\n",
       "Pad_Type                    331602\n",
       "Ride_Control                259970\n",
       "Stick                       331602\n",
       "Transmission                224691\n",
       "Turbocharged                331602\n",
       "Blade_Extension             386715\n",
       "Blade_Width                 386715\n",
       "Enclosure_Type              386715\n",
       "Engine_Horsepower           386715\n",
       "Hydraulics                   82565\n",
       "Pushblock                   386715\n",
       "Ripper                      305753\n",
       "Scarifier                   386704\n",
       "Tip_Control                 386715\n",
       "Tire_Size                   315060\n",
       "Coupler                     192019\n",
       "Coupler_System              367724\n",
       "Grouser_Tracks              367823\n",
       "Hydraulics_Flow             367823\n",
       "Track_Type                  310505\n",
       "Undercarriage_Pad_Width     309782\n",
       "Stick_Length                310437\n",
       "Thumb                       310366\n",
       "Pattern_Changer             310437\n",
       "Grouser_Type                310505\n",
       "Backhoe_Mounting            331986\n",
       "Blade_Type                  330823\n",
       "Travel_Controls             330821\n",
       "Differential_Type           341134\n",
       "Steering_Controls           341176\n",
       "dtype: int64"
      ]
     },
     "execution_count": 4,
     "metadata": {},
     "output_type": "execute_result"
    }
   ],
   "source": [
    "df.isna().sum()"
   ]
  },
  {
   "cell_type": "code",
   "execution_count": 5,
   "id": "544accc3-2177-4ff6-a2e5-7e768ad8c0b9",
   "metadata": {},
   "outputs": [
    {
     "data": {
      "text/plain": [
       "<matplotlib.collections.PathCollection at 0x14e8000ffe0>"
      ]
     },
     "execution_count": 5,
     "metadata": {},
     "output_type": "execute_result"
    },
    {
     "data": {
      "image/png": "[encoded data removed]",
      "text/plain": [
       "<Figure size 640x480 with 1 Axes>"
      ]
     },
     "metadata": {},
     "output_type": "display_data"
    }
   ],
   "source": [
    "plt.scatter(y=df[\"SalePrice\"][:1000],x=df[\"saledate\"][:1000])"
   ]
  },
  {
   "cell_type": "code",
   "execution_count": 6,
   "id": "5631a1f8-36ff-4efb-8fc8-06973a1635c5",
   "metadata": {},
   "outputs": [],
   "source": [
    "# it dosnt shows date as dateframe so...\n",
    "df = pd.read_csv(\"data/TrainAndValid/TrainAndValid.csv\",low_memory=False,parse_dates = [\"saledate\"])"
   ]
  },
  {
   "cell_type": "code",
   "execution_count": 7,
   "id": "7396acb3-be65-497c-a1be-cce73e0e83d3",
   "metadata": {},
   "outputs": [
    {
     "data": {
      "text/plain": [
       "<matplotlib.collections.PathCollection at 0x14e80ae0c20>"
      ]
     },
     "execution_count": 7,
     "metadata": {},
     "output_type": "execute_result"
    },
    {
     "data": {
      "image/png": "[encoded data removed]",
      "text/plain": [
       "<Figure size 640x480 with 1 Axes>"
      ]
     },
     "metadata": {},
     "output_type": "display_data"
    }
   ],
   "source": [
    "plt.scatter(y=df[\"SalePrice\"][:1000],x=df[\"saledate\"][:1000])"
   ]
  },
  {
   "cell_type": "code",
   "execution_count": 8,
   "id": "b14a3628-22d5-4964-b0d5-d41ce196d3d6",
   "metadata": {},
   "outputs": [
    {
     "data": {
      "text/plain": [
       "dtype('<M8[ns]')"
      ]
     },
     "execution_count": 8,
     "metadata": {},
     "output_type": "execute_result"
    }
   ],
   "source": [
    "df.saledate.dtype"
   ]
  },
  {
   "cell_type": "markdown",
   "id": "5e65c543-3495-4470-ae8c-a57f4f54a212",
   "metadata": {},
   "source": [
    "## we should sort data series files and seperate dtae by y & m & d in columns"
   ]
  },
  {
   "cell_type": "code",
   "execution_count": 9,
   "id": "2a3c0478-5c32-4b0e-a9d3-59c235f9d283",
   "metadata": {},
   "outputs": [],
   "source": [
    "df.sort_values(by = [\"saledate\"],inplace=True)"
   ]
  },
  {
   "cell_type": "code",
   "execution_count": 10,
   "id": "9e3f9565-6ad6-4c92-bb26-698fa504a173",
   "metadata": {},
   "outputs": [],
   "source": [
    "df_temp = df.copy()"
   ]
  },
  {
   "cell_type": "code",
   "execution_count": 11,
   "id": "4e6522f7-e729-4a5e-887e-9372153cd32e",
   "metadata": {},
   "outputs": [],
   "source": [
    "df_temp[\"saleyear\"] = df_temp.saledate.dt.year\n",
    "df_temp[\"salemonth\"] = df_temp.saledate.dt.month\n",
    "df_temp[\"saleday\"] = df_temp.saledate.dt.day"
   ]
  },
  {
   "cell_type": "markdown",
   "id": "c1823562-31ef-45a3-884f-4285714bb278",
   "metadata": {},
   "source": [
    "## making categories for ML"
   ]
  },
  {
   "cell_type": "code",
   "execution_count": 12,
   "id": "7dc59457-9a3f-425d-8c39-a2d319f0747a",
   "metadata": {},
   "outputs": [],
   "source": [
    "for label , content in df_temp.items():\n",
    "    if pd.api.types.is_string_dtype(df_temp[label].dtype):\n",
    "        df_temp[label] = content.astype(\"category\").cat.as_ordered()"
   ]
  },
  {
   "cell_type": "code",
   "execution_count": 13,
   "id": "979a9144-1477-49d1-88a3-930bdffd3665",
   "metadata": {},
   "outputs": [
    {
     "data": {
      "text/plain": [
       "205615    2\n",
       "274835   -1\n",
       "141296    7\n",
       "212552   -1\n",
       "62755     7\n",
       "         ..\n",
       "410879    7\n",
       "412476   -1\n",
       "411927   -1\n",
       "407124    4\n",
       "409203   -1\n",
       "Length: 412698, dtype: int8"
      ]
     },
     "execution_count": 13,
     "metadata": {},
     "output_type": "execute_result"
    }
   ],
   "source": [
    "df_temp[\"Transmission\"].cat.codes"
   ]
  },
  {
   "cell_type": "markdown",
   "id": "721807bd-6d37-4d0b-9d94-ea5551751bc1",
   "metadata": {},
   "source": [
    "## save the df with categories features"
   ]
  },
  {
   "cell_type": "code",
   "execution_count": 14,
   "id": "aedc7ac9-7aef-44d0-a349-67474b217afe",
   "metadata": {},
   "outputs": [],
   "source": [
    "# df_temp.to_csv(\"data/train_categorized.csv\",index=False)"
   ]
  },
  {
   "cell_type": "code",
   "execution_count": 15,
   "id": "8205f267-4f35-4899-9c43-8e573c0f9a25",
   "metadata": {},
   "outputs": [],
   "source": [
    "df_temp = pd.read_csv(\"data/train_categorized.csv\",low_memory = False , parse_dates = [\"saledate\"])"
   ]
  },
  {
   "cell_type": "code",
   "execution_count": 16,
   "id": "fed12912-5ce8-43a6-a70d-15d1d7ec166f",
   "metadata": {},
   "outputs": [
    {
     "data": {
      "text/plain": [
       "SalesID                     0.000000\n",
       "SalePrice                   0.000000\n",
       "MachineID                   0.000000\n",
       "ModelID                     0.000000\n",
       "datasource                  0.000000\n",
       "auctioneerID                0.048791\n",
       "YearMade                    0.000000\n",
       "MachineHoursCurrentMeter    0.642586\n",
       "UsageBand                   0.821492\n",
       "saledate                    0.000000\n",
       "fiModelDesc                 0.000000\n",
       "fiBaseModel                 0.000000\n",
       "fiSecondaryDesc             0.340993\n",
       "fiModelSeries               0.857845\n",
       "fiModelDescriptor           0.818715\n",
       "ProductSize                 0.524851\n",
       "fiProductClassDesc          0.000000\n",
       "state                       0.000000\n",
       "ProductGroup                0.000000\n",
       "ProductGroupDesc            0.000000\n",
       "Drive_System                0.740520\n",
       "Enclosure                   0.000809\n",
       "Forks                       0.520921\n",
       "Pad_Type                    0.803498\n",
       "Ride_Control                0.629928\n",
       "Stick                       0.803498\n",
       "Transmission                0.544444\n",
       "Turbocharged                0.803498\n",
       "Blade_Extension             0.937041\n",
       "Blade_Width                 0.937041\n",
       "Enclosure_Type              0.937041\n",
       "Engine_Horsepower           0.937041\n",
       "Hydraulics                  0.200062\n",
       "Pushblock                   0.937041\n",
       "Ripper                      0.740864\n",
       "Scarifier                   0.937014\n",
       "Tip_Control                 0.937041\n",
       "Tire_Size                   0.763415\n",
       "Coupler                     0.465277\n",
       "Coupler_System              0.891024\n",
       "Grouser_Tracks              0.891264\n",
       "Hydraulics_Flow             0.891264\n",
       "Track_Type                  0.752378\n",
       "Undercarriage_Pad_Width     0.750626\n",
       "Stick_Length                0.752213\n",
       "Thumb                       0.752041\n",
       "Pattern_Changer             0.752213\n",
       "Grouser_Type                0.752378\n",
       "Backhoe_Mounting            0.804428\n",
       "Blade_Type                  0.801610\n",
       "Travel_Controls             0.801606\n",
       "Differential_Type           0.826595\n",
       "Steering_Controls           0.826697\n",
       "saleyear                    0.000000\n",
       "salemonth                   0.000000\n",
       "saleday                     0.000000\n",
       "dtype: float64"
      ]
     },
     "execution_count": 16,
     "metadata": {},
     "output_type": "execute_result"
    }
   ],
   "source": [
    "df_temp.isnull().sum()/len(df_temp)"
   ]
  },
  {
   "cell_type": "markdown",
   "id": "5eef615e-1cad-4b39-afdd-0d21bf2c1f8a",
   "metadata": {},
   "source": [
    "## filling missing data"
   ]
  },
  {
   "cell_type": "code",
   "execution_count": 17,
   "id": "90c65731-5176-40a2-8dd8-1ac9b75ec318",
   "metadata": {},
   "outputs": [],
   "source": [
    "for label , content in df_temp.items():\n",
    "    if pd.api.types.is_numeric_dtype(content):\n",
    "        if pd.isnull(content).any():\n",
    "            df_temp[label + \" is missing\"] = pd.isnull(content)\n",
    "            df_temp[label] = content.fillna(content.median())"
   ]
  },
  {
   "cell_type": "code",
   "execution_count": 18,
   "id": "4200b3ec-f70e-4955-817f-2dac74ad1e78",
   "metadata": {},
   "outputs": [
    {
     "data": {
      "text/plain": [
       "MachineHoursCurrentMeter is missing\n",
       "True     265194\n",
       "False    147504\n",
       "Name: count, dtype: int64"
      ]
     },
     "execution_count": 18,
     "metadata": {},
     "output_type": "execute_result"
    }
   ],
   "source": [
    "df_temp[\"MachineHoursCurrentMeter is missing\"].value_counts()"
   ]
  },
  {
   "cell_type": "code",
   "execution_count": 19,
   "id": "4bb689d3-5b75-4cfb-8fb8-c99b9fc76643",
   "metadata": {},
   "outputs": [
    {
     "data": {
      "text/plain": [
       "SalesID                                0.000000\n",
       "SalePrice                              0.000000\n",
       "MachineID                              0.000000\n",
       "ModelID                                0.000000\n",
       "datasource                             0.000000\n",
       "auctioneerID                           0.000000\n",
       "YearMade                               0.000000\n",
       "MachineHoursCurrentMeter               0.000000\n",
       "UsageBand                              0.821492\n",
       "saledate                               0.000000\n",
       "fiModelDesc                            0.000000\n",
       "fiBaseModel                            0.000000\n",
       "fiSecondaryDesc                        0.340993\n",
       "fiModelSeries                          0.857845\n",
       "fiModelDescriptor                      0.818715\n",
       "ProductSize                            0.524851\n",
       "fiProductClassDesc                     0.000000\n",
       "state                                  0.000000\n",
       "ProductGroup                           0.000000\n",
       "ProductGroupDesc                       0.000000\n",
       "Drive_System                           0.740520\n",
       "Enclosure                              0.000809\n",
       "Forks                                  0.520921\n",
       "Pad_Type                               0.803498\n",
       "Ride_Control                           0.629928\n",
       "Stick                                  0.803498\n",
       "Transmission                           0.544444\n",
       "Turbocharged                           0.803498\n",
       "Blade_Extension                        0.937041\n",
       "Blade_Width                            0.937041\n",
       "Enclosure_Type                         0.937041\n",
       "Engine_Horsepower                      0.937041\n",
       "Hydraulics                             0.200062\n",
       "Pushblock                              0.937041\n",
       "Ripper                                 0.740864\n",
       "Scarifier                              0.937014\n",
       "Tip_Control                            0.937041\n",
       "Tire_Size                              0.763415\n",
       "Coupler                                0.465277\n",
       "Coupler_System                         0.891024\n",
       "Grouser_Tracks                         0.891264\n",
       "Hydraulics_Flow                        0.891264\n",
       "Track_Type                             0.752378\n",
       "Undercarriage_Pad_Width                0.750626\n",
       "Stick_Length                           0.752213\n",
       "Thumb                                  0.752041\n",
       "Pattern_Changer                        0.752213\n",
       "Grouser_Type                           0.752378\n",
       "Backhoe_Mounting                       0.804428\n",
       "Blade_Type                             0.801610\n",
       "Travel_Controls                        0.801606\n",
       "Differential_Type                      0.826595\n",
       "Steering_Controls                      0.826697\n",
       "saleyear                               0.000000\n",
       "salemonth                              0.000000\n",
       "saleday                                0.000000\n",
       "auctioneerID is missing                0.000000\n",
       "MachineHoursCurrentMeter is missing    0.000000\n",
       "dtype: float64"
      ]
     },
     "execution_count": 19,
     "metadata": {},
     "output_type": "execute_result"
    }
   ],
   "source": [
    "df_temp.isna().sum()/len(df_temp)"
   ]
  },
  {
   "cell_type": "code",
   "execution_count": 20,
   "id": "e798b92a-1fd3-41a1-9d45-3d5f2983fb40",
   "metadata": {},
   "outputs": [],
   "source": [
    "for label , content in df_temp.items():\n",
    "    if not pd.api.types.is_numeric_dtype(content):\n",
    "        df_temp[label+\" is missing\"] = pd.isnull(content)\n",
    "        df_temp[label] = pd.Categorical(content).codes+1"
   ]
  },
  {
   "cell_type": "code",
   "execution_count": 21,
   "id": "c5d43401-c42e-4ec5-9ebe-11ee8d9fa169",
   "metadata": {},
   "outputs": [
    {
     "data": {
      "text/plain": [
       "SalesID                         False\n",
       "SalePrice                       False\n",
       "MachineID                       False\n",
       "ModelID                         False\n",
       "datasource                      False\n",
       "                                ...  \n",
       "Backhoe_Mounting is missing     False\n",
       "Blade_Type is missing           False\n",
       "Travel_Controls is missing      False\n",
       "Differential_Type is missing    False\n",
       "Steering_Controls is missing    False\n",
       "Length: 103, dtype: bool"
      ]
     },
     "execution_count": 21,
     "metadata": {},
     "output_type": "execute_result"
    }
   ],
   "source": [
    "df_temp.isnull().any()"
   ]
  },
  {
   "cell_type": "markdown",
   "id": "c5386e1b-a3bd-434e-808a-e38d4f892fdb",
   "metadata": {},
   "source": [
    "## fitting model"
   ]
  },
  {
   "cell_type": "code",
   "execution_count": 22,
   "id": "d75f70fe-a805-4ece-9195-995a1921b20f",
   "metadata": {},
   "outputs": [],
   "source": [
    "from sklearn.ensemble import RandomForestRegressor\n",
    "model = RandomForestRegressor(random_state=21)"
   ]
  },
  {
   "cell_type": "code",
   "execution_count": 23,
   "id": "c9ed10da-0704-485c-aba6-098bd6f8dd50",
   "metadata": {},
   "outputs": [
    {
     "name": "stdout",
     "output_type": "stream",
     "text": [
      "CPU times: total: 0 ns\n",
      "Wall time: 0 ns\n"
     ]
    }
   ],
   "source": [
    "%%time\n",
    "# model.fit(df_temp.drop(\"SalePrice\",axis=1),df_temp[\"SalePrice\"]) # 27 mins"
   ]
  },
  {
   "cell_type": "markdown",
   "id": "0ae3b9b2-4a2a-496a-a33c-cd91c432588e",
   "metadata": {},
   "source": [
    "## spliting data"
   ]
  },
  {
   "cell_type": "code",
   "execution_count": 24,
   "id": "ec23cd05-13d0-4c7b-b4d4-5a8fde05624f",
   "metadata": {},
   "outputs": [],
   "source": [
    "train_data = df_temp[df_temp[\"saleyear\"] < 2012]\n",
    "val_data = df_temp[df_temp[\"saleyear\"] >= 2012]\n",
    "x_train , y_train = train_data.drop(\"SalePrice\",axis=1),train_data.SalePrice\n",
    "x_val , y_val = val_data.drop(\"SalePrice\",axis=1),val_data.SalePrice"
   ]
  },
  {
   "cell_type": "code",
   "execution_count": 25,
   "id": "aedb6d69-40f7-4c6f-bdf6-22f64f9568e3",
   "metadata": {},
   "outputs": [
    {
     "data": {
      "text/plain": [
       "((401125, 102), (11573,), (412698, 103))"
      ]
     },
     "execution_count": 25,
     "metadata": {},
     "output_type": "execute_result"
    }
   ],
   "source": [
    "x_train.shape , y_val.shape, df_temp.shape"
   ]
  },
  {
   "cell_type": "code",
   "execution_count": 26,
   "id": "b7be6642-6b9d-493d-9b69-a9d66cb1bc1c",
   "metadata": {},
   "outputs": [],
   "source": [
    "from sklearn.metrics import root_mean_squared_log_error , r2_score , mean_absolute_error , mean_squared_error\n",
    "rmsle = root_mean_squared_log_error"
   ]
  },
  {
   "cell_type": "code",
   "execution_count": 27,
   "id": "65c5b743-8c61-4815-9a0f-fc388c778811",
   "metadata": {},
   "outputs": [],
   "source": [
    "def validation_report(y_test , y_preds):\n",
    "    scores = {\"rmsle is : \" : rmsle(y_test,y_preds),\n",
    "              \" mean_absolute_error is : \" :  mean_absolute_error(y_test , y_preds),\n",
    "              \"mean_squared_error is : \" : mean_squared_error(y_test , y_preds),\n",
    "              \"r2 is :\" : r2_score(y_test , y_preds)\n",
    "             }\n",
    "    return scores"
   ]
  },
  {
   "cell_type": "code",
   "execution_count": 28,
   "id": "192a20f6-8978-4472-980b-9bf47f6b6011",
   "metadata": {},
   "outputs": [],
   "source": [
    "# reducing x_train by max_samples\n",
    "# %timeit\n",
    "# model = RandomForestRegressor(random_state=21 , max_samples =10000 )\n",
    "# model.fit(x_train,y_train)"
   ]
  },
  {
   "cell_type": "code",
   "execution_count": 29,
   "id": "f502d742-925e-47c9-b712-3adfac43a4d9",
   "metadata": {},
   "outputs": [],
   "source": [
    "# y_preds = model.predict(x_val)"
   ]
  },
  {
   "cell_type": "code",
   "execution_count": 30,
   "id": "27310112-b6b6-4501-ac6a-f56a4f77a020",
   "metadata": {},
   "outputs": [],
   "source": [
    "# validation_report(y_val , y_preds) # by x_train[-10000:],y_train[-10000:]\n",
    "# RMSLE = 0.285"
   ]
  },
  {
   "cell_type": "code",
   "execution_count": 31,
   "id": "5ac9f131-0183-4035-82c4-341f2417c6ed",
   "metadata": {},
   "outputs": [],
   "source": [
    "# validation_report(y_val , y_preds) # by max_samples\n",
    "#RMSLE = 0.294"
   ]
  },
  {
   "cell_type": "markdown",
   "id": "bacc91c7-47c0-40c6-84a8-21f918e597ca",
   "metadata": {},
   "source": [
    "## hyper parameters"
   ]
  },
  {
   "cell_type": "code",
   "execution_count": 32,
   "id": "f39fd570-ad64-4fc9-9b03-4bea53caa255",
   "metadata": {},
   "outputs": [],
   "source": [
    "from sklearn.model_selection import RandomizedSearchCV"
   ]
  },
  {
   "cell_type": "code",
   "execution_count": 33,
   "id": "341749df-ef98-44e1-8b9b-ebc1cfc91a7e",
   "metadata": {},
   "outputs": [],
   "source": [
    "# # random_grid = {'max_depth': [10, 20, 30, 40, 50, 100, 110, None],\n",
    "#                'max_features': [0.5,1,'auto', 'sqrt'],\n",
    "#                'min_samples_leaf': [1, 2, 4],\n",
    "#                'min_samples_split': [2, 5, 10],\n",
    "#                'n_estimators': [130, 180, 230]}\n",
    "# # rcv = RandomizedSearchCV(model,random_grid,n_iter=3,verbose=2,random_state=3,cv=3)\n",
    "# # rcv.fit(x_train,y_train)"
   ]
  },
  {
   "cell_type": "code",
   "execution_count": 34,
   "id": "84733bc1-8323-4f24-994c-99544a830b40",
   "metadata": {},
   "outputs": [],
   "source": [
    "# y_preds = rcv.predict(x_val)"
   ]
  },
  {
   "cell_type": "code",
   "execution_count": 35,
   "id": "ade0c51f-efac-4a9a-ab54-e6547972ef2c",
   "metadata": {},
   "outputs": [],
   "source": [
    "# validation_report(y_val,y_preds) # by randomizedcv\n",
    "#RMSLE = 0.293"
   ]
  },
  {
   "cell_type": "markdown",
   "id": "a3935adc-f87e-4d8e-af4a-dc44595094a3",
   "metadata": {},
   "source": [
    "## train full data with tuned hyperparameters"
   ]
  },
  {
   "cell_type": "code",
   "execution_count": 36,
   "id": "b4222512-f2b4-4c76-9efb-a034bbb95711",
   "metadata": {},
   "outputs": [
    {
     "data": {
      "text/html": [
       "<style>#sk-container-id-1 {\n",
       "  /* Definition of color scheme common for light and dark mode */\n",
       "  --sklearn-color-text: black;\n",
       "  --sklearn-color-line: gray;\n",
       "  /* Definition of color scheme for unfitted estimators */\n",
       "  --sklearn-color-unfitted-level-0: #fff5e6;\n",
       "  --sklearn-color-unfitted-level-1: #f6e4d2;\n",
       "  --sklearn-color-unfitted-level-2: #ffe0b3;\n",
       "  --sklearn-color-unfitted-level-3: chocolate;\n",
       "  /* Definition of color scheme for fitted estimators */\n",
       "  --sklearn-color-fitted-level-0: #f0f8ff;\n",
       "  --sklearn-color-fitted-level-1: #d4ebff;\n",
       "  --sklearn-color-fitted-level-2: #b3dbfd;\n",
       "  --sklearn-color-fitted-level-3: cornflowerblue;\n",
       "\n",
       "  /* Specific color for light theme */\n",
       "  --sklearn-color-text-on-default-background: var(--sg-text-color, var(--theme-code-foreground, var(--jp-content-font-color1, black)));\n",
       "  --sklearn-color-background: var(--sg-background-color, var(--theme-background, var(--jp-layout-color0, white)));\n",
       "  --sklearn-color-border-box: var(--sg-text-color, var(--theme-code-foreground, var(--jp-content-font-color1, black)));\n",
       "  --sklearn-color-icon: #696969;\n",
       "\n",
       "  @media (prefers-color-scheme: dark) {\n",
       "    /* Redefinition of color scheme for dark theme */\n",
       "    --sklearn-color-text-on-default-background: var(--sg-text-color, var(--theme-code-foreground, var(--jp-content-font-color1, white)));\n",
       "    --sklearn-color-background: var(--sg-background-color, var(--theme-background, var(--jp-layout-color0, #111)));\n",
       "    --sklearn-color-border-box: var(--sg-text-color, var(--theme-code-foreground, var(--jp-content-font-color1, white)));\n",
       "    --sklearn-color-icon: #878787;\n",
       "  }\n",
       "}\n",
       "\n",
       "#sk-container-id-1 {\n",
       "  color: var(--sklearn-color-text);\n",
       "}\n",
       "\n",
       "#sk-container-id-1 pre {\n",
       "  padding: 0;\n",
       "}\n",
       "\n",
       "#sk-container-id-1 input.sk-hidden--visually {\n",
       "  border: 0;\n",
       "  clip: rect(1px 1px 1px 1px);\n",
       "  clip: rect(1px, 1px, 1px, 1px);\n",
       "  height: 1px;\n",
       "  margin: -1px;\n",
       "  overflow: hidden;\n",
       "  padding: 0;\n",
       "  position: absolute;\n",
       "  width: 1px;\n",
       "}\n",
       "\n",
       "#sk-container-id-1 div.sk-dashed-wrapped {\n",
       "  border: 1px dashed var(--sklearn-color-line);\n",
       "  margin: 0 0.4em 0.5em 0.4em;\n",
       "  box-sizing: border-box;\n",
       "  padding-bottom: 0.4em;\n",
       "  background-color: var(--sklearn-color-background);\n",
       "}\n",
       "\n",
       "#sk-container-id-1 div.sk-container {\n",
       "  /* jupyter's `normalize.less` sets `[hidden] { display: none; }`\n",
       "     but bootstrap.min.css set `[hidden] { display: none !important; }`\n",
       "     so we also need the `!important` here to be able to override the\n",
       "     default hidden behavior on the sphinx rendered scikit-learn.org.\n",
       "     See: https://github.com/scikit-learn/scikit-learn/issues/21755 */\n",
       "  display: inline-block !important;\n",
       "  position: relative;\n",
       "}\n",
       "\n",
       "#sk-container-id-1 div.sk-text-repr-fallback {\n",
       "  display: none;\n",
       "}\n",
       "\n",
       "div.sk-parallel-item,\n",
       "div.sk-serial,\n",
       "div.sk-item {\n",
       "  /* draw centered vertical line to link estimators */\n",
       "  background-image: linear-gradient(var(--sklearn-color-text-on-default-background), var(--sklearn-color-text-on-default-background));\n",
       "  background-size: 2px 100%;\n",
       "  background-repeat: no-repeat;\n",
       "  background-position: center center;\n",
       "}\n",
       "\n",
       "/* Parallel-specific style estimator block */\n",
       "\n",
       "#sk-container-id-1 div.sk-parallel-item::after {\n",
       "  content: \"\";\n",
       "  width: 100%;\n",
       "  border-bottom: 2px solid var(--sklearn-color-text-on-default-background);\n",
       "  flex-grow: 1;\n",
       "}\n",
       "\n",
       "#sk-container-id-1 div.sk-parallel {\n",
       "  display: flex;\n",
       "  align-items: stretch;\n",
       "  justify-content: center;\n",
       "  background-color: var(--sklearn-color-background);\n",
       "  position: relative;\n",
       "}\n",
       "\n",
       "#sk-container-id-1 div.sk-parallel-item {\n",
       "  display: flex;\n",
       "  flex-direction: column;\n",
       "}\n",
       "\n",
       "#sk-container-id-1 div.sk-parallel-item:first-child::after {\n",
       "  align-self: flex-end;\n",
       "  width: 50%;\n",
       "}\n",
       "\n",
       "#sk-container-id-1 div.sk-parallel-item:last-child::after {\n",
       "  align-self: flex-start;\n",
       "  width: 50%;\n",
       "}\n",
       "\n",
       "#sk-container-id-1 div.sk-parallel-item:only-child::after {\n",
       "  width: 0;\n",
       "}\n",
       "\n",
       "/* Serial-specific style estimator block */\n",
       "\n",
       "#sk-container-id-1 div.sk-serial {\n",
       "  display: flex;\n",
       "  flex-direction: column;\n",
       "  align-items: center;\n",
       "  background-color: var(--sklearn-color-background);\n",
       "  padding-right: 1em;\n",
       "  padding-left: 1em;\n",
       "}\n",
       "\n",
       "\n",
       "/* Toggleable style: style used for estimator/Pipeline/ColumnTransformer box that is\n",
       "clickable and can be expanded/collapsed.\n",
       "- Pipeline and ColumnTransformer use this feature and define the default style\n",
       "- Estimators will overwrite some part of the style using the `sk-estimator` class\n",
       "*/\n",
       "\n",
       "/* Pipeline and ColumnTransformer style (default) */\n",
       "\n",
       "#sk-container-id-1 div.sk-toggleable {\n",
       "  /* Default theme specific background. It is overwritten whether we have a\n",
       "  specific estimator or a Pipeline/ColumnTransformer */\n",
       "  background-color: var(--sklearn-color-background);\n",
       "}\n",
       "\n",
       "/* Toggleable label */\n",
       "#sk-container-id-1 label.sk-toggleable__label {\n",
       "  cursor: pointer;\n",
       "  display: block;\n",
       "  width: 100%;\n",
       "  margin-bottom: 0;\n",
       "  padding: 0.5em;\n",
       "  box-sizing: border-box;\n",
       "  text-align: center;\n",
       "}\n",
       "\n",
       "#sk-container-id-1 label.sk-toggleable__label-arrow:before {\n",
       "  /* Arrow on the left of the label */\n",
       "  content: \"▸\";\n",
       "  float: left;\n",
       "  margin-right: 0.25em;\n",
       "  color: var(--sklearn-color-icon);\n",
       "}\n",
       "\n",
       "#sk-container-id-1 label.sk-toggleable__label-arrow:hover:before {\n",
       "  color: var(--sklearn-color-text);\n",
       "}\n",
       "\n",
       "/* Toggleable content - dropdown */\n",
       "\n",
       "#sk-container-id-1 div.sk-toggleable__content {\n",
       "  max-height: 0;\n",
       "  max-width: 0;\n",
       "  overflow: hidden;\n",
       "  text-align: left;\n",
       "  /* unfitted */\n",
       "  background-color: var(--sklearn-color-unfitted-level-0);\n",
       "}\n",
       "\n",
       "#sk-container-id-1 div.sk-toggleable__content.fitted {\n",
       "  /* fitted */\n",
       "  background-color: var(--sklearn-color-fitted-level-0);\n",
       "}\n",
       "\n",
       "#sk-container-id-1 div.sk-toggleable__content pre {\n",
       "  margin: 0.2em;\n",
       "  border-radius: 0.25em;\n",
       "  color: var(--sklearn-color-text);\n",
       "  /* unfitted */\n",
       "  background-color: var(--sklearn-color-unfitted-level-0);\n",
       "}\n",
       "\n",
       "#sk-container-id-1 div.sk-toggleable__content.fitted pre {\n",
       "  /* unfitted */\n",
       "  background-color: var(--sklearn-color-fitted-level-0);\n",
       "}\n",
       "\n",
       "#sk-container-id-1 input.sk-toggleable__control:checked~div.sk-toggleable__content {\n",
       "  /* Expand drop-down */\n",
       "  max-height: 200px;\n",
       "  max-width: 100%;\n",
       "  overflow: auto;\n",
       "}\n",
       "\n",
       "#sk-container-id-1 input.sk-toggleable__control:checked~label.sk-toggleable__label-arrow:before {\n",
       "  content: \"▾\";\n",
       "}\n",
       "\n",
       "/* Pipeline/ColumnTransformer-specific style */\n",
       "\n",
       "#sk-container-id-1 div.sk-label input.sk-toggleable__control:checked~label.sk-toggleable__label {\n",
       "  color: var(--sklearn-color-text);\n",
       "  background-color: var(--sklearn-color-unfitted-level-2);\n",
       "}\n",
       "\n",
       "#sk-container-id-1 div.sk-label.fitted input.sk-toggleable__control:checked~label.sk-toggleable__label {\n",
       "  background-color: var(--sklearn-color-fitted-level-2);\n",
       "}\n",
       "\n",
       "/* Estimator-specific style */\n",
       "\n",
       "/* Colorize estimator box */\n",
       "#sk-container-id-1 div.sk-estimator input.sk-toggleable__control:checked~label.sk-toggleable__label {\n",
       "  /* unfitted */\n",
       "  background-color: var(--sklearn-color-unfitted-level-2);\n",
       "}\n",
       "\n",
       "#sk-container-id-1 div.sk-estimator.fitted input.sk-toggleable__control:checked~label.sk-toggleable__label {\n",
       "  /* fitted */\n",
       "  background-color: var(--sklearn-color-fitted-level-2);\n",
       "}\n",
       "\n",
       "#sk-container-id-1 div.sk-label label.sk-toggleable__label,\n",
       "#sk-container-id-1 div.sk-label label {\n",
       "  /* The background is the default theme color */\n",
       "  color: var(--sklearn-color-text-on-default-background);\n",
       "}\n",
       "\n",
       "/* On hover, darken the color of the background */\n",
       "#sk-container-id-1 div.sk-label:hover label.sk-toggleable__label {\n",
       "  color: var(--sklearn-color-text);\n",
       "  background-color: var(--sklearn-color-unfitted-level-2);\n",
       "}\n",
       "\n",
       "/* Label box, darken color on hover, fitted */\n",
       "#sk-container-id-1 div.sk-label.fitted:hover label.sk-toggleable__label.fitted {\n",
       "  color: var(--sklearn-color-text);\n",
       "  background-color: var(--sklearn-color-fitted-level-2);\n",
       "}\n",
       "\n",
       "/* Estimator label */\n",
       "\n",
       "#sk-container-id-1 div.sk-label label {\n",
       "  font-family: monospace;\n",
       "  font-weight: bold;\n",
       "  display: inline-block;\n",
       "  line-height: 1.2em;\n",
       "}\n",
       "\n",
       "#sk-container-id-1 div.sk-label-container {\n",
       "  text-align: center;\n",
       "}\n",
       "\n",
       "/* Estimator-specific */\n",
       "#sk-container-id-1 div.sk-estimator {\n",
       "  font-family: monospace;\n",
       "  border: 1px dotted var(--sklearn-color-border-box);\n",
       "  border-radius: 0.25em;\n",
       "  box-sizing: border-box;\n",
       "  margin-bottom: 0.5em;\n",
       "  /* unfitted */\n",
       "  background-color: var(--sklearn-color-unfitted-level-0);\n",
       "}\n",
       "\n",
       "#sk-container-id-1 div.sk-estimator.fitted {\n",
       "  /* fitted */\n",
       "  background-color: var(--sklearn-color-fitted-level-0);\n",
       "}\n",
       "\n",
       "/* on hover */\n",
       "#sk-container-id-1 div.sk-estimator:hover {\n",
       "  /* unfitted */\n",
       "  background-color: var(--sklearn-color-unfitted-level-2);\n",
       "}\n",
       "\n",
       "#sk-container-id-1 div.sk-estimator.fitted:hover {\n",
       "  /* fitted */\n",
       "  background-color: var(--sklearn-color-fitted-level-2);\n",
       "}\n",
       "\n",
       "/* Specification for estimator info (e.g. \"i\" and \"?\") */\n",
       "\n",
       "/* Common style for \"i\" and \"?\" */\n",
       "\n",
       ".sk-estimator-doc-link,\n",
       "a:link.sk-estimator-doc-link,\n",
       "a:visited.sk-estimator-doc-link {\n",
       "  float: right;\n",
       "  font-size: smaller;\n",
       "  line-height: 1em;\n",
       "  font-family: monospace;\n",
       "  background-color: var(--sklearn-color-background);\n",
       "  border-radius: 1em;\n",
       "  height: 1em;\n",
       "  width: 1em;\n",
       "  text-decoration: none !important;\n",
       "  margin-left: 1ex;\n",
       "  /* unfitted */\n",
       "  border: var(--sklearn-color-unfitted-level-1) 1pt solid;\n",
       "  color: var(--sklearn-color-unfitted-level-1);\n",
       "}\n",
       "\n",
       ".sk-estimator-doc-link.fitted,\n",
       "a:link.sk-estimator-doc-link.fitted,\n",
       "a:visited.sk-estimator-doc-link.fitted {\n",
       "  /* fitted */\n",
       "  border: var(--sklearn-color-fitted-level-1) 1pt solid;\n",
       "  color: var(--sklearn-color-fitted-level-1);\n",
       "}\n",
       "\n",
       "/* On hover */\n",
       "div.sk-estimator:hover .sk-estimator-doc-link:hover,\n",
       ".sk-estimator-doc-link:hover,\n",
       "div.sk-label-container:hover .sk-estimator-doc-link:hover,\n",
       ".sk-estimator-doc-link:hover {\n",
       "  /* unfitted */\n",
       "  background-color: var(--sklearn-color-unfitted-level-3);\n",
       "  color: var(--sklearn-color-background);\n",
       "  text-decoration: none;\n",
       "}\n",
       "\n",
       "div.sk-estimator.fitted:hover .sk-estimator-doc-link.fitted:hover,\n",
       ".sk-estimator-doc-link.fitted:hover,\n",
       "div.sk-label-container:hover .sk-estimator-doc-link.fitted:hover,\n",
       ".sk-estimator-doc-link.fitted:hover {\n",
       "  /* fitted */\n",
       "  background-color: var(--sklearn-color-fitted-level-3);\n",
       "  color: var(--sklearn-color-background);\n",
       "  text-decoration: none;\n",
       "}\n",
       "\n",
       "/* Span, style for the box shown on hovering the info icon */\n",
       ".sk-estimator-doc-link span {\n",
       "  display: none;\n",
       "  z-index: 9999;\n",
       "  position: relative;\n",
       "  font-weight: normal;\n",
       "  right: .2ex;\n",
       "  padding: .5ex;\n",
       "  margin: .5ex;\n",
       "  width: min-content;\n",
       "  min-width: 20ex;\n",
       "  max-width: 50ex;\n",
       "  color: var(--sklearn-color-text);\n",
       "  box-shadow: 2pt 2pt 4pt #999;\n",
       "  /* unfitted */\n",
       "  background: var(--sklearn-color-unfitted-level-0);\n",
       "  border: .5pt solid var(--sklearn-color-unfitted-level-3);\n",
       "}\n",
       "\n",
       ".sk-estimator-doc-link.fitted span {\n",
       "  /* fitted */\n",
       "  background: var(--sklearn-color-fitted-level-0);\n",
       "  border: var(--sklearn-color-fitted-level-3);\n",
       "}\n",
       "\n",
       ".sk-estimator-doc-link:hover span {\n",
       "  display: block;\n",
       "}\n",
       "\n",
       "/* \"?\"-specific style due to the `<a>` HTML tag */\n",
       "\n",
       "#sk-container-id-1 a.estimator_doc_link {\n",
       "  float: right;\n",
       "  font-size: 1rem;\n",
       "  line-height: 1em;\n",
       "  font-family: monospace;\n",
       "  background-color: var(--sklearn-color-background);\n",
       "  border-radius: 1rem;\n",
       "  height: 1rem;\n",
       "  width: 1rem;\n",
       "  text-decoration: none;\n",
       "  /* unfitted */\n",
       "  color: var(--sklearn-color-unfitted-level-1);\n",
       "  border: var(--sklearn-color-unfitted-level-1) 1pt solid;\n",
       "}\n",
       "\n",
       "#sk-container-id-1 a.estimator_doc_link.fitted {\n",
       "  /* fitted */\n",
       "  border: var(--sklearn-color-fitted-level-1) 1pt solid;\n",
       "  color: var(--sklearn-color-fitted-level-1);\n",
       "}\n",
       "\n",
       "/* On hover */\n",
       "#sk-container-id-1 a.estimator_doc_link:hover {\n",
       "  /* unfitted */\n",
       "  background-color: var(--sklearn-color-unfitted-level-3);\n",
       "  color: var(--sklearn-color-background);\n",
       "  text-decoration: none;\n",
       "}\n",
       "\n",
       "#sk-container-id-1 a.estimator_doc_link.fitted:hover {\n",
       "  /* fitted */\n",
       "  background-color: var(--sklearn-color-fitted-level-3);\n",
       "}\n",
       "</style><div id=\"sk-container-id-1\" class=\"sk-top-container\"><div class=\"sk-text-repr-fallback\"><pre>RandomForestRegressor(max_features=0.5, min_samples_split=14, n_estimators=40,\n",
       "                      random_state=42)</pre><b>In a Jupyter environment, please rerun this cell to show the HTML representation or trust the notebook. <br />On GitHub, the HTML representation is unable to render, please try loading this page with nbviewer.org.</b></div><div class=\"sk-container\" hidden><div class=\"sk-item\"><div class=\"sk-estimator fitted sk-toggleable\"><input class=\"sk-toggleable__control sk-hidden--visually\" id=\"sk-estimator-id-1\" type=\"checkbox\" checked><label for=\"sk-estimator-id-1\" class=\"sk-toggleable__label fitted sk-toggleable__label-arrow fitted\">&nbsp;&nbsp;RandomForestRegressor<a class=\"sk-estimator-doc-link fitted\" rel=\"noreferrer\" target=\"_blank\" href=\"https://scikit-learn.org/1.5/modules/generated/sklearn.ensemble.RandomForestRegressor.html\">?<span>Documentation for RandomForestRegressor</span></a><span class=\"sk-estimator-doc-link fitted\">i<span>Fitted</span></span></label><div class=\"sk-toggleable__content fitted\"><pre>RandomForestRegressor(max_features=0.5, min_samples_split=14, n_estimators=40,\n",
       "                      random_state=42)</pre></div> </div></div></div></div>"
      ],
      "text/plain": [
       "RandomForestRegressor(max_features=0.5, min_samples_split=14, n_estimators=40,\n",
       "                      random_state=42)"
      ]
     },
     "execution_count": 36,
     "metadata": {},
     "output_type": "execute_result"
    }
   ],
   "source": [
    "# model_pro = RandomForestRegressor(n_estimators=40,\n",
    "#                                  min_samples_leaf=1,\n",
    "#                                  min_samples_split=14,\n",
    "#                                  max_features=0.5,\n",
    "#                                  max_samples=None,\n",
    "#                                  random_state=42)\n",
    "# model_pro.fit(x_train,y_train)"
   ]
  },
  {
   "cell_type": "code",
   "execution_count": 37,
   "id": "e7525b55-b65f-4a77-8ada-c478eb4ec858",
   "metadata": {},
   "outputs": [],
   "source": [
    "# y_preds = model_pro.predict(x_val)"
   ]
  },
  {
   "cell_type": "code",
   "execution_count": 47,
   "id": "f31938f5-12b1-42c6-a92e-357d1c886778",
   "metadata": {},
   "outputs": [
    {
     "data": {
      "text/plain": [
       "{'rmsle is : ': 0.24633298777862547,\n",
       " ' mean_absolute_error is : ': 5979.688239400049,\n",
       " 'mean_squared_error is : ': 81482533.11468442,\n",
       " 'r2 is :': 0.8813716616684798}"
      ]
     },
     "execution_count": 47,
     "metadata": {},
     "output_type": "execute_result"
    }
   ],
   "source": [
    "# validation_report(y_val,y_preds) # by best randomizedcv and full data\n",
    "#RMSLE = 0.246"
   ]
  },
  {
   "cell_type": "markdown",
   "id": "6345b17a-3b1b-486a-a13b-91e4ab9b2e1a",
   "metadata": {},
   "source": [
    "## save model"
   ]
  },
  {
   "cell_type": "code",
   "execution_count": 53,
   "id": "f5165736-a0ec-4ab9-94c6-c2f3024692e4",
   "metadata": {},
   "outputs": [
    {
     "data": {
      "text/plain": [
       "['models/model1_RMSLE_0.246.joblib']"
      ]
     },
     "execution_count": 53,
     "metadata": {},
     "output_type": "execute_result"
    }
   ],
   "source": [
    "import joblib\n",
    "# joblib.dump(model_pro,\"models/model1_RMSLE_0.246.joblib\")"
   ]
  },
  {
   "cell_type": "code",
   "execution_count": 54,
   "id": "7b3e2516-be54-4c69-90da-cd15ad02fee5",
   "metadata": {},
   "outputs": [],
   "source": [
    "load_model_pro = joblib.load(\"models/model1_RMSLE_0.246.joblib\")"
   ]
  },
  {
   "cell_type": "markdown",
   "id": "81a21c0c-ce6a-49ec-ae9f-079286fb00e2",
   "metadata": {},
   "source": [
    "## test the Test.csv"
   ]
  },
  {
   "cell_type": "code",
   "execution_count": 39,
   "id": "d14161f7-7b52-4155-aec8-fc4f8daad197",
   "metadata": {},
   "outputs": [],
   "source": [
    "test_data = pd.read_csv('data/Test.csv',parse_dates = [\"saledate\"] , low_memory=False)"
   ]
  },
  {
   "cell_type": "code",
   "execution_count": 40,
   "id": "14aa278d-3606-4801-aa93-2b846c803a43",
   "metadata": {},
   "outputs": [],
   "source": [
    "test_data[\"saleyear\"] = test_data.saledate.dt.year\n",
    "test_data[\"salemonth\"] = test_data.saledate.dt.month\n",
    "test_data[\"saleday\"] = test_data.saledate.dt.day"
   ]
  },
  {
   "cell_type": "code",
   "execution_count": 41,
   "id": "c082d66f-13e1-4cd2-8211-a19b43c8ea15",
   "metadata": {},
   "outputs": [],
   "source": [
    "for label , content in test_data.items():\n",
    "    if pd.api.types.is_string_dtype(test_data[label].dtype):\n",
    "        test_data[label] = content.astype(\"category\").cat.as_ordered()"
   ]
  },
  {
   "cell_type": "code",
   "execution_count": 42,
   "id": "3bd75a10-1e85-49c4-aaf6-31d78ed3981f",
   "metadata": {},
   "outputs": [],
   "source": [
    "test_data[\"auctioneerID is missing\"] = False"
   ]
  },
  {
   "cell_type": "code",
   "execution_count": 43,
   "id": "494fed4c-085c-458b-a4d5-619f3651d32a",
   "metadata": {},
   "outputs": [
    {
     "name": "stdout",
     "output_type": "stream",
     "text": [
      "MachineHoursCurrentMeter\n"
     ]
    }
   ],
   "source": [
    "for label , content in test_data.items():\n",
    "    if pd.api.types.is_numeric_dtype(content):\n",
    "        if pd.isnull(content).any():\n",
    "            print(label)\n",
    "            test_data[label + \" is missing\"] = pd.isnull(content)\n",
    "            test_data[label] = content.fillna(content.median())"
   ]
  },
  {
   "cell_type": "code",
   "execution_count": 44,
   "id": "c80effab-48cd-4d2b-9b55-01bfebdc7dd8",
   "metadata": {},
   "outputs": [],
   "source": [
    "for label , content in test_data.items():\n",
    "    if not pd.api.types.is_numeric_dtype(content):\n",
    "        test_data[label+\" is missing\"] = pd.isnull(content)\n",
    "        test_data[label] = pd.Categorical(content).codes+1"
   ]
  },
  {
   "cell_type": "code",
   "execution_count": 45,
   "id": "becea992-dfec-4173-ba91-c10d505caa18",
   "metadata": {},
   "outputs": [],
   "source": [
    "# test_preds = model_pro.predict(test_data)"
   ]
  },
  {
   "cell_type": "code",
   "execution_count": 48,
   "id": "5727ec51-da9c-4602-b227-98fae6520e2a",
   "metadata": {},
   "outputs": [],
   "source": [
    "# finalreport1 = pd.DataFrame(test_data.SalesID,columns = [\"SalesID\",\"SalePrice\"])\n",
    "# finalreport1.SalePrice = test_preds\n",
    "# finalreport1.SalesID = test_data.SalesID\n",
    "# finalreport1"
   ]
  },
  {
   "cell_type": "code",
   "execution_count": 49,
   "id": "ad3db7a4-d56b-43e3-bc8d-258c58da5e98",
   "metadata": {},
   "outputs": [],
   "source": [
    "# finalreport1.to_csv(\"TestReport1.csv\",index=False)"
   ]
  },
  {
   "cell_type": "markdown",
   "id": "dd629fb9-b7fe-463b-a5b7-56f2d2820abd",
   "metadata": {},
   "source": [
    "## features importance"
   ]
  },
  {
   "cell_type": "code",
   "execution_count": 107,
   "id": "a94a66cd-b982-437e-b938-08701448984b",
   "metadata": {},
   "outputs": [],
   "source": [
    "def features_importance(columns,features,n=20):\n",
    "    bardf= pd.DataFrame({\"features\":x_train.columns,\"features_importance\":load_model_pro.feature_importances_}).sort_values(\"features_importance\" , ascending=False).reset_index(drop=True)    \n",
    "    ax = plt.subplot()\n",
    "    ax.barh(bardf[\"features\"][:n],bardf[\"features_importance\"][:n])\n",
    "    ax.invert_yaxis()"
   ]
  },
  {
   "cell_type": "code",
   "execution_count": 108,
   "id": "080c4abb-2ae6-4f6f-8a4d-7a9c79192c00",
   "metadata": {},
   "outputs": [
    {
     "data": {
      "image/png": "[encoded data removed]",
      "text/plain": [
       "<Figure size 640x480 with 1 Axes>"
      ]
     },
     "metadata": {},
     "output_type": "display_data"
    }
   ],
   "source": [
    "features_importance(x_train.columns,load_model_pro.feature_importances_)"
   ]
  },
  {
   "cell_type": "code",
   "execution_count": 56,
   "id": "8847cb70-9e46-4a1d-854f-aadff741c65b",
   "metadata": {},
   "outputs": [
    {
     "data": {
      "text/plain": [
       "array([2.92923512e-02, 1.81457218e-02, 4.49463445e-02, 9.70637355e-04,\n",
       "       3.10105650e-03, 2.11517776e-01, 2.61263085e-03, 9.41281637e-04,\n",
       "       6.37896093e-02, 4.10228397e-02, 4.31413863e-02, 5.98708784e-02,\n",
       "       4.33776143e-03, 1.07509337e-02, 1.46426211e-01, 3.87620956e-02,\n",
       "       5.71577997e-03, 3.19331265e-03, 2.88430683e-03, 3.71543192e-03,\n",
       "       8.06532757e-02, 6.23530337e-04, 3.76589626e-05, 8.11785062e-04,\n",
       "       2.25008326e-04, 8.23786225e-04, 5.13362923e-04, 2.07407311e-03,\n",
       "       6.53552890e-03, 3.05370775e-04, 2.43079451e-03, 3.26774980e-03,\n",
       "       4.78041617e-03, 5.17736005e-03, 2.27566553e-04, 4.98004221e-03,\n",
       "       3.72886577e-03, 9.41070422e-04, 1.26479861e-02, 3.78823367e-04,\n",
       "       3.22266719e-03, 7.30046318e-04, 9.75227484e-04, 3.07592749e-03,\n",
       "       5.65846773e-04, 7.92423512e-04, 3.56551835e-04, 1.17634636e-04,\n",
       "       1.77899026e-03, 1.25037965e-03, 2.85682111e-04, 2.11846697e-04,\n",
       "       2.42548299e-02, 4.53437304e-03, 5.36963743e-03, 2.18128096e-04,\n",
       "       7.52220061e-04, 2.83271734e-04, 0.00000000e+00, 0.00000000e+00,\n",
       "       0.00000000e+00, 2.20283179e-03, 1.29855667e-03, 9.93420490e-03,\n",
       "       3.02333237e-02, 0.00000000e+00, 0.00000000e+00, 0.00000000e+00,\n",
       "       0.00000000e+00, 5.56263787e-05, 5.23860367e-06, 3.28625289e-04,\n",
       "       4.67037535e-06, 1.85231652e-04, 1.68783850e-05, 1.85486898e-04,\n",
       "       3.32777060e-06, 4.98479448e-04, 3.99240663e-03, 4.05950317e-03,\n",
       "       1.18628220e-04, 3.06881944e-03, 2.02367369e-03, 1.06812191e-03,\n",
       "       4.52005425e-03, 2.42770185e-05, 5.52916916e-03, 1.56790588e-04,\n",
       "       1.13902711e-02, 7.26944784e-04, 2.13012980e-03, 7.30574501e-05,\n",
       "       1.48060939e-04, 4.40100315e-05, 7.35852025e-05, 3.52548301e-05,\n",
       "       3.09502863e-05, 3.93792264e-04, 1.01602194e-04, 1.04774503e-04,\n",
       "       9.25091073e-05, 6.30454401e-05])"
      ]
     },
     "execution_count": 56,
     "metadata": {},
     "output_type": "execute_result"
    }
   ],
   "source": [
    "load_model_pro.feature_importances_"
   ]
  },
  {
   "cell_type": "code",
   "execution_count": null,
   "id": "318651c5-3198-461e-9f11-5da6a6a788f4",
   "metadata": {},
   "outputs": [],
   "source": []
  }
 ],
 "metadata": {
  "kernelspec": {
   "display_name": "Python 3 (ipykernel)",
   "language": "python",
   "name": "python3"
  },
  "language_info": {
   "codemirror_mode": {
    "name": "ipython",
    "version": 3
   },
   "file_extension": ".py",
   "mimetype": "text/x-python",
   "name": "python",
   "nbconvert_exporter": "python",
   "pygments_lexer": "ipython3",
   "version": "3.12.7"
  }
 },
 "nbformat": 4,
 "nbformat_minor": 5
}
