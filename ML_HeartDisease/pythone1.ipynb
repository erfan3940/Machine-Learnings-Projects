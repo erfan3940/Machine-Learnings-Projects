{
 "cells": [
  {
   "cell_type": "code",
   "execution_count": 1,
   "id": "f8eb815c-2b2e-48d6-bd93-40bf1dfae7f9",
   "metadata": {},
   "outputs": [],
   "source": [
    "import pandas as pd"
   ]
  },
  {
   "cell_type": "markdown",
   "id": "6b42dfbc-94b7-435b-9ef6-136a2c9fa0d7",
   "metadata": {},
   "source": [
    "## data dictionary"
   ]
  },
  {
   "cell_type": "code",
   "execution_count": 2,
   "id": "8eccbb8f-3043-4d4e-a92a-6dbcb20480d2",
   "metadata": {},
   "outputs": [
    {
     "data": {
      "text/html": [
       "<div>\n",
       "<style scoped>\n",
       "    .dataframe tbody tr th:only-of-type {\n",
       "        vertical-align: middle;\n",
       "    }\n",
       "\n",
       "    .dataframe tbody tr th {\n",
       "        vertical-align: top;\n",
       "    }\n",
       "\n",
       "    .dataframe thead th {\n",
       "        text-align: right;\n",
       "    }\n",
       "</style>\n",
       "<table border=\"1\" class=\"dataframe\">\n",
       "  <thead>\n",
       "    <tr style=\"text-align: right;\">\n",
       "      <th></th>\n",
       "      <th>Variable Name</th>\n",
       "      <th>Description</th>\n",
       "    </tr>\n",
       "  </thead>\n",
       "  <tbody>\n",
       "    <tr>\n",
       "      <th>0</th>\n",
       "      <td>age</td>\n",
       "      <td>NaN</td>\n",
       "    </tr>\n",
       "    <tr>\n",
       "      <th>1</th>\n",
       "      <td>sex</td>\n",
       "      <td>sex (1 = male; 0 = female)</td>\n",
       "    </tr>\n",
       "    <tr>\n",
       "      <th>2</th>\n",
       "      <td>cp</td>\n",
       "      <td>chest pain type -- Value 1: typical angina -- ...</td>\n",
       "    </tr>\n",
       "    <tr>\n",
       "      <th>3</th>\n",
       "      <td>trestbps</td>\n",
       "      <td>resting blood pressure (on admission to the ho...</td>\n",
       "    </tr>\n",
       "    <tr>\n",
       "      <th>4</th>\n",
       "      <td>chol</td>\n",
       "      <td>serum cholestoral</td>\n",
       "    </tr>\n",
       "    <tr>\n",
       "      <th>5</th>\n",
       "      <td>fbs</td>\n",
       "      <td>fasting blood sugar &gt; 120 mg/dl (1 = true; 0 =...</td>\n",
       "    </tr>\n",
       "    <tr>\n",
       "      <th>6</th>\n",
       "      <td>restecg</td>\n",
       "      <td>resting electrocardiographic results -- Value ...</td>\n",
       "    </tr>\n",
       "    <tr>\n",
       "      <th>7</th>\n",
       "      <td>thalach</td>\n",
       "      <td>maximum heart rate achieved</td>\n",
       "    </tr>\n",
       "    <tr>\n",
       "      <th>8</th>\n",
       "      <td>exang</td>\n",
       "      <td>exercise induced angina (1 = yes; 0 = no)</td>\n",
       "    </tr>\n",
       "    <tr>\n",
       "      <th>9</th>\n",
       "      <td>oldpeak</td>\n",
       "      <td>ST depression induced by exercise relative to ...</td>\n",
       "    </tr>\n",
       "    <tr>\n",
       "      <th>10</th>\n",
       "      <td>slope</td>\n",
       "      <td>the slope of the peak exercise ST segment -- V...</td>\n",
       "    </tr>\n",
       "    <tr>\n",
       "      <th>11</th>\n",
       "      <td>ca</td>\n",
       "      <td>number of major vessels (0-3) colored by flour...</td>\n",
       "    </tr>\n",
       "    <tr>\n",
       "      <th>12</th>\n",
       "      <td>thal</td>\n",
       "      <td>3 = normal; 6 = fixed defect; 7 = reversable d...</td>\n",
       "    </tr>\n",
       "    <tr>\n",
       "      <th>13</th>\n",
       "      <td>num</td>\n",
       "      <td>diagnosis of heart disease (angiographic disea...</td>\n",
       "    </tr>\n",
       "  </tbody>\n",
       "</table>\n",
       "</div>"
      ],
      "text/plain": [
       "   Variable Name                                        Description\n",
       "0            age                                                NaN\n",
       "1            sex                         sex (1 = male; 0 = female)\n",
       "2             cp  chest pain type -- Value 1: typical angina -- ...\n",
       "3       trestbps  resting blood pressure (on admission to the ho...\n",
       "4           chol                                  serum cholestoral\n",
       "5            fbs  fasting blood sugar > 120 mg/dl (1 = true; 0 =...\n",
       "6        restecg  resting electrocardiographic results -- Value ...\n",
       "7        thalach                        maximum heart rate achieved\n",
       "8          exang          exercise induced angina (1 = yes; 0 = no)\n",
       "9        oldpeak  ST depression induced by exercise relative to ...\n",
       "10         slope  the slope of the peak exercise ST segment -- V...\n",
       "11            ca  number of major vessels (0-3) colored by flour...\n",
       "12          thal  3 = normal; 6 = fixed defect; 7 = reversable d...\n",
       "13           num  diagnosis of heart disease (angiographic disea..."
      ]
     },
     "execution_count": 2,
     "metadata": {},
     "output_type": "execute_result"
    }
   ],
   "source": [
    "datadic=pd.read_csv(\"data dictionary.csv\")\n",
    "varVSdes = datadic[[\"Variable Name\",\"Description\"]]\n",
    "varVSdes"
   ]
  },
  {
   "cell_type": "markdown",
   "id": "c3a22c10-5dfd-4131-b628-49c693dd66fc",
   "metadata": {},
   "source": [
    "## preparing tools"
   ]
  },
  {
   "cell_type": "code",
   "execution_count": 3,
   "id": "0c5a3501-3227-43f0-9350-a44145af3d0c",
   "metadata": {},
   "outputs": [],
   "source": [
    "# Regular EDA and plotting libraries\n",
    "import numpy as np\n",
    "import pandas as pd\n",
    "import matplotlib\n",
    "import matplotlib.pyplot as plt\n",
    "import seaborn as sns\n",
    "import pprint\n",
    "import joblib\n",
    "\n",
    "## Models\n",
    "import sklearn \n",
    "from sklearn.linear_model import LogisticRegression\n",
    "from sklearn.neighbors import KNeighborsClassifier\n",
    "from sklearn.ensemble import RandomForestClassifier\n",
    "\n",
    "## Model evaluators\n",
    "from sklearn.model_selection import train_test_split, cross_val_score\n",
    "from sklearn.model_selection import RandomizedSearchCV, GridSearchCV\n",
    "from sklearn.metrics import confusion_matrix, classification_report\n",
    "from sklearn.metrics import precision_score, recall_score, f1_score\n",
    "from sklearn.metrics import RocCurveDisplay"
   ]
  },
  {
   "cell_type": "code",
   "execution_count": 4,
   "id": "667aa79f-ce75-4900-ae3b-a6ddc3db8f6c",
   "metadata": {},
   "outputs": [
    {
     "data": {
      "text/html": [
       "<div>\n",
       "<style scoped>\n",
       "    .dataframe tbody tr th:only-of-type {\n",
       "        vertical-align: middle;\n",
       "    }\n",
       "\n",
       "    .dataframe tbody tr th {\n",
       "        vertical-align: top;\n",
       "    }\n",
       "\n",
       "    .dataframe thead th {\n",
       "        text-align: right;\n",
       "    }\n",
       "</style>\n",
       "<table border=\"1\" class=\"dataframe\">\n",
       "  <thead>\n",
       "    <tr style=\"text-align: right;\">\n",
       "      <th></th>\n",
       "      <th>age</th>\n",
       "      <th>sex</th>\n",
       "      <th>cp</th>\n",
       "      <th>trestbps</th>\n",
       "      <th>chol</th>\n",
       "      <th>fbs</th>\n",
       "      <th>restecg</th>\n",
       "      <th>thalach</th>\n",
       "      <th>exang</th>\n",
       "      <th>oldpeak</th>\n",
       "      <th>slope</th>\n",
       "      <th>ca</th>\n",
       "      <th>thal</th>\n",
       "      <th>target</th>\n",
       "    </tr>\n",
       "  </thead>\n",
       "  <tbody>\n",
       "    <tr>\n",
       "      <th>count</th>\n",
       "      <td>303.000000</td>\n",
       "      <td>303.000000</td>\n",
       "      <td>303.000000</td>\n",
       "      <td>303.000000</td>\n",
       "      <td>303.000000</td>\n",
       "      <td>303.000000</td>\n",
       "      <td>303.000000</td>\n",
       "      <td>303.000000</td>\n",
       "      <td>303.000000</td>\n",
       "      <td>303.000000</td>\n",
       "      <td>303.000000</td>\n",
       "      <td>303.000000</td>\n",
       "      <td>303.000000</td>\n",
       "      <td>303.000000</td>\n",
       "    </tr>\n",
       "    <tr>\n",
       "      <th>mean</th>\n",
       "      <td>54.366337</td>\n",
       "      <td>0.683168</td>\n",
       "      <td>0.966997</td>\n",
       "      <td>131.623762</td>\n",
       "      <td>246.264026</td>\n",
       "      <td>0.148515</td>\n",
       "      <td>0.528053</td>\n",
       "      <td>149.646865</td>\n",
       "      <td>0.326733</td>\n",
       "      <td>1.039604</td>\n",
       "      <td>1.399340</td>\n",
       "      <td>0.729373</td>\n",
       "      <td>2.313531</td>\n",
       "      <td>0.544554</td>\n",
       "    </tr>\n",
       "    <tr>\n",
       "      <th>std</th>\n",
       "      <td>9.082101</td>\n",
       "      <td>0.466011</td>\n",
       "      <td>1.032052</td>\n",
       "      <td>17.538143</td>\n",
       "      <td>51.830751</td>\n",
       "      <td>0.356198</td>\n",
       "      <td>0.525860</td>\n",
       "      <td>22.905161</td>\n",
       "      <td>0.469794</td>\n",
       "      <td>1.161075</td>\n",
       "      <td>0.616226</td>\n",
       "      <td>1.022606</td>\n",
       "      <td>0.612277</td>\n",
       "      <td>0.498835</td>\n",
       "    </tr>\n",
       "    <tr>\n",
       "      <th>min</th>\n",
       "      <td>29.000000</td>\n",
       "      <td>0.000000</td>\n",
       "      <td>0.000000</td>\n",
       "      <td>94.000000</td>\n",
       "      <td>126.000000</td>\n",
       "      <td>0.000000</td>\n",
       "      <td>0.000000</td>\n",
       "      <td>71.000000</td>\n",
       "      <td>0.000000</td>\n",
       "      <td>0.000000</td>\n",
       "      <td>0.000000</td>\n",
       "      <td>0.000000</td>\n",
       "      <td>0.000000</td>\n",
       "      <td>0.000000</td>\n",
       "    </tr>\n",
       "    <tr>\n",
       "      <th>25%</th>\n",
       "      <td>47.500000</td>\n",
       "      <td>0.000000</td>\n",
       "      <td>0.000000</td>\n",
       "      <td>120.000000</td>\n",
       "      <td>211.000000</td>\n",
       "      <td>0.000000</td>\n",
       "      <td>0.000000</td>\n",
       "      <td>133.500000</td>\n",
       "      <td>0.000000</td>\n",
       "      <td>0.000000</td>\n",
       "      <td>1.000000</td>\n",
       "      <td>0.000000</td>\n",
       "      <td>2.000000</td>\n",
       "      <td>0.000000</td>\n",
       "    </tr>\n",
       "    <tr>\n",
       "      <th>50%</th>\n",
       "      <td>55.000000</td>\n",
       "      <td>1.000000</td>\n",
       "      <td>1.000000</td>\n",
       "      <td>130.000000</td>\n",
       "      <td>240.000000</td>\n",
       "      <td>0.000000</td>\n",
       "      <td>1.000000</td>\n",
       "      <td>153.000000</td>\n",
       "      <td>0.000000</td>\n",
       "      <td>0.800000</td>\n",
       "      <td>1.000000</td>\n",
       "      <td>0.000000</td>\n",
       "      <td>2.000000</td>\n",
       "      <td>1.000000</td>\n",
       "    </tr>\n",
       "    <tr>\n",
       "      <th>75%</th>\n",
       "      <td>61.000000</td>\n",
       "      <td>1.000000</td>\n",
       "      <td>2.000000</td>\n",
       "      <td>140.000000</td>\n",
       "      <td>274.500000</td>\n",
       "      <td>0.000000</td>\n",
       "      <td>1.000000</td>\n",
       "      <td>166.000000</td>\n",
       "      <td>1.000000</td>\n",
       "      <td>1.600000</td>\n",
       "      <td>2.000000</td>\n",
       "      <td>1.000000</td>\n",
       "      <td>3.000000</td>\n",
       "      <td>1.000000</td>\n",
       "    </tr>\n",
       "    <tr>\n",
       "      <th>max</th>\n",
       "      <td>77.000000</td>\n",
       "      <td>1.000000</td>\n",
       "      <td>3.000000</td>\n",
       "      <td>200.000000</td>\n",
       "      <td>564.000000</td>\n",
       "      <td>1.000000</td>\n",
       "      <td>2.000000</td>\n",
       "      <td>202.000000</td>\n",
       "      <td>1.000000</td>\n",
       "      <td>6.200000</td>\n",
       "      <td>2.000000</td>\n",
       "      <td>4.000000</td>\n",
       "      <td>3.000000</td>\n",
       "      <td>1.000000</td>\n",
       "    </tr>\n",
       "  </tbody>\n",
       "</table>\n",
       "</div>"
      ],
      "text/plain": [
       "              age         sex          cp    trestbps        chol         fbs  \\\n",
       "count  303.000000  303.000000  303.000000  303.000000  303.000000  303.000000   \n",
       "mean    54.366337    0.683168    0.966997  131.623762  246.264026    0.148515   \n",
       "std      9.082101    0.466011    1.032052   17.538143   51.830751    0.356198   \n",
       "min     29.000000    0.000000    0.000000   94.000000  126.000000    0.000000   \n",
       "25%     47.500000    0.000000    0.000000  120.000000  211.000000    0.000000   \n",
       "50%     55.000000    1.000000    1.000000  130.000000  240.000000    0.000000   \n",
       "75%     61.000000    1.000000    2.000000  140.000000  274.500000    0.000000   \n",
       "max     77.000000    1.000000    3.000000  200.000000  564.000000    1.000000   \n",
       "\n",
       "          restecg     thalach       exang     oldpeak       slope          ca  \\\n",
       "count  303.000000  303.000000  303.000000  303.000000  303.000000  303.000000   \n",
       "mean     0.528053  149.646865    0.326733    1.039604    1.399340    0.729373   \n",
       "std      0.525860   22.905161    0.469794    1.161075    0.616226    1.022606   \n",
       "min      0.000000   71.000000    0.000000    0.000000    0.000000    0.000000   \n",
       "25%      0.000000  133.500000    0.000000    0.000000    1.000000    0.000000   \n",
       "50%      1.000000  153.000000    0.000000    0.800000    1.000000    0.000000   \n",
       "75%      1.000000  166.000000    1.000000    1.600000    2.000000    1.000000   \n",
       "max      2.000000  202.000000    1.000000    6.200000    2.000000    4.000000   \n",
       "\n",
       "             thal      target  \n",
       "count  303.000000  303.000000  \n",
       "mean     2.313531    0.544554  \n",
       "std      0.612277    0.498835  \n",
       "min      0.000000    0.000000  \n",
       "25%      2.000000    0.000000  \n",
       "50%      2.000000    1.000000  \n",
       "75%      3.000000    1.000000  \n",
       "max      3.000000    1.000000  "
      ]
     },
     "execution_count": 4,
     "metadata": {},
     "output_type": "execute_result"
    }
   ],
   "source": [
    "df = pd.read_csv(\"45 - heart-disease.csv\")\n",
    "df.isna().sum()\n",
    "df.describe()"
   ]
  },
  {
   "cell_type": "code",
   "execution_count": 5,
   "id": "6f90d2ad-d511-4e9f-a565-8a52004d8811",
   "metadata": {},
   "outputs": [
    {
     "data": {
      "image/png": "[encoded data removed]",
      "text/plain": [
       "<Figure size 640x480 with 1 Axes>"
      ]
     },
     "metadata": {},
     "output_type": "display_data"
    }
   ],
   "source": [
    "pd.crosstab(df[\"sex\"],df[\"target\"]).plot(kind=\"bar\",color=[\"b\",\"r\"]);"
   ]
  },
  {
   "cell_type": "code",
   "execution_count": 6,
   "id": "1a08ba28-3dc8-49e3-9b74-20efa6c93734",
   "metadata": {},
   "outputs": [
    {
     "data": {
      "text/plain": [
       "<matplotlib.legend.Legend at 0x1c7c5102b70>"
      ]
     },
     "execution_count": 6,
     "metadata": {},
     "output_type": "execute_result"
    },
    {
     "data": {
      "image/png": "[encoded data removed]",
      "text/plain": [
       "<Figure size 800x1000 with 1 Axes>"
      ]
     },
     "metadata": {},
     "output_type": "display_data"
    }
   ],
   "source": [
    "plt.figure(figsize=(8,10))\n",
    "plt.scatter(df.age[df.target==1],df.thalach[df.target==1])\n",
    "plt.scatter(df.age[df.target==0],df.thalach[df.target==0])\n",
    "df.age.plot.hist()\n",
    "plt.xlabel(\"age\")\n",
    "plt.ylabel(\"max heart rate\")\n",
    "plt.legend([\"disease\",\"not disease\"])"
   ]
  },
  {
   "cell_type": "code",
   "execution_count": 7,
   "id": "59d96470-6511-4322-80e5-58d9523be618",
   "metadata": {},
   "outputs": [
    {
     "data": {
      "text/plain": [
       "<Axes: xlabel='cp'>"
      ]
     },
     "execution_count": 7,
     "metadata": {},
     "output_type": "execute_result"
    },
    {
     "data": {
      "image/png": "[encoded data removed]",
      "text/plain": [
       "<Figure size 640x480 with 1 Axes>"
      ]
     },
     "metadata": {},
     "output_type": "display_data"
    }
   ],
   "source": [
    "pd.crosstab(df.cp,df.target).plot(kind=\"bar\")\n"
   ]
  },
  {
   "cell_type": "code",
   "execution_count": 8,
   "id": "e39181d8-7bc6-4ecd-a1b4-d0b6e1b20a01",
   "metadata": {},
   "outputs": [
    {
     "data": {
      "text/html": [
       "<div>\n",
       "<style scoped>\n",
       "    .dataframe tbody tr th:only-of-type {\n",
       "        vertical-align: middle;\n",
       "    }\n",
       "\n",
       "    .dataframe tbody tr th {\n",
       "        vertical-align: top;\n",
       "    }\n",
       "\n",
       "    .dataframe thead th {\n",
       "        text-align: right;\n",
       "    }\n",
       "</style>\n",
       "<table border=\"1\" class=\"dataframe\">\n",
       "  <thead>\n",
       "    <tr style=\"text-align: right;\">\n",
       "      <th></th>\n",
       "      <th>age</th>\n",
       "      <th>sex</th>\n",
       "      <th>cp</th>\n",
       "      <th>trestbps</th>\n",
       "      <th>chol</th>\n",
       "      <th>fbs</th>\n",
       "      <th>restecg</th>\n",
       "      <th>thalach</th>\n",
       "      <th>exang</th>\n",
       "      <th>oldpeak</th>\n",
       "      <th>slope</th>\n",
       "      <th>ca</th>\n",
       "      <th>thal</th>\n",
       "      <th>target</th>\n",
       "    </tr>\n",
       "  </thead>\n",
       "  <tbody>\n",
       "    <tr>\n",
       "      <th>age</th>\n",
       "      <td>1.000000</td>\n",
       "      <td>-0.098447</td>\n",
       "      <td>-0.068653</td>\n",
       "      <td>0.279351</td>\n",
       "      <td>0.213678</td>\n",
       "      <td>0.121308</td>\n",
       "      <td>-0.116211</td>\n",
       "      <td>-0.398522</td>\n",
       "      <td>0.096801</td>\n",
       "      <td>0.210013</td>\n",
       "      <td>-0.168814</td>\n",
       "      <td>0.276326</td>\n",
       "      <td>0.068001</td>\n",
       "      <td>-0.225439</td>\n",
       "    </tr>\n",
       "    <tr>\n",
       "      <th>sex</th>\n",
       "      <td>-0.098447</td>\n",
       "      <td>1.000000</td>\n",
       "      <td>-0.049353</td>\n",
       "      <td>-0.056769</td>\n",
       "      <td>-0.197912</td>\n",
       "      <td>0.045032</td>\n",
       "      <td>-0.058196</td>\n",
       "      <td>-0.044020</td>\n",
       "      <td>0.141664</td>\n",
       "      <td>0.096093</td>\n",
       "      <td>-0.030711</td>\n",
       "      <td>0.118261</td>\n",
       "      <td>0.210041</td>\n",
       "      <td>-0.280937</td>\n",
       "    </tr>\n",
       "    <tr>\n",
       "      <th>cp</th>\n",
       "      <td>-0.068653</td>\n",
       "      <td>-0.049353</td>\n",
       "      <td>1.000000</td>\n",
       "      <td>0.047608</td>\n",
       "      <td>-0.076904</td>\n",
       "      <td>0.094444</td>\n",
       "      <td>0.044421</td>\n",
       "      <td>0.295762</td>\n",
       "      <td>-0.394280</td>\n",
       "      <td>-0.149230</td>\n",
       "      <td>0.119717</td>\n",
       "      <td>-0.181053</td>\n",
       "      <td>-0.161736</td>\n",
       "      <td>0.433798</td>\n",
       "    </tr>\n",
       "    <tr>\n",
       "      <th>trestbps</th>\n",
       "      <td>0.279351</td>\n",
       "      <td>-0.056769</td>\n",
       "      <td>0.047608</td>\n",
       "      <td>1.000000</td>\n",
       "      <td>0.123174</td>\n",
       "      <td>0.177531</td>\n",
       "      <td>-0.114103</td>\n",
       "      <td>-0.046698</td>\n",
       "      <td>0.067616</td>\n",
       "      <td>0.193216</td>\n",
       "      <td>-0.121475</td>\n",
       "      <td>0.101389</td>\n",
       "      <td>0.062210</td>\n",
       "      <td>-0.144931</td>\n",
       "    </tr>\n",
       "    <tr>\n",
       "      <th>chol</th>\n",
       "      <td>0.213678</td>\n",
       "      <td>-0.197912</td>\n",
       "      <td>-0.076904</td>\n",
       "      <td>0.123174</td>\n",
       "      <td>1.000000</td>\n",
       "      <td>0.013294</td>\n",
       "      <td>-0.151040</td>\n",
       "      <td>-0.009940</td>\n",
       "      <td>0.067023</td>\n",
       "      <td>0.053952</td>\n",
       "      <td>-0.004038</td>\n",
       "      <td>0.070511</td>\n",
       "      <td>0.098803</td>\n",
       "      <td>-0.085239</td>\n",
       "    </tr>\n",
       "    <tr>\n",
       "      <th>fbs</th>\n",
       "      <td>0.121308</td>\n",
       "      <td>0.045032</td>\n",
       "      <td>0.094444</td>\n",
       "      <td>0.177531</td>\n",
       "      <td>0.013294</td>\n",
       "      <td>1.000000</td>\n",
       "      <td>-0.084189</td>\n",
       "      <td>-0.008567</td>\n",
       "      <td>0.025665</td>\n",
       "      <td>0.005747</td>\n",
       "      <td>-0.059894</td>\n",
       "      <td>0.137979</td>\n",
       "      <td>-0.032019</td>\n",
       "      <td>-0.028046</td>\n",
       "    </tr>\n",
       "    <tr>\n",
       "      <th>restecg</th>\n",
       "      <td>-0.116211</td>\n",
       "      <td>-0.058196</td>\n",
       "      <td>0.044421</td>\n",
       "      <td>-0.114103</td>\n",
       "      <td>-0.151040</td>\n",
       "      <td>-0.084189</td>\n",
       "      <td>1.000000</td>\n",
       "      <td>0.044123</td>\n",
       "      <td>-0.070733</td>\n",
       "      <td>-0.058770</td>\n",
       "      <td>0.093045</td>\n",
       "      <td>-0.072042</td>\n",
       "      <td>-0.011981</td>\n",
       "      <td>0.137230</td>\n",
       "    </tr>\n",
       "    <tr>\n",
       "      <th>thalach</th>\n",
       "      <td>-0.398522</td>\n",
       "      <td>-0.044020</td>\n",
       "      <td>0.295762</td>\n",
       "      <td>-0.046698</td>\n",
       "      <td>-0.009940</td>\n",
       "      <td>-0.008567</td>\n",
       "      <td>0.044123</td>\n",
       "      <td>1.000000</td>\n",
       "      <td>-0.378812</td>\n",
       "      <td>-0.344187</td>\n",
       "      <td>0.386784</td>\n",
       "      <td>-0.213177</td>\n",
       "      <td>-0.096439</td>\n",
       "      <td>0.421741</td>\n",
       "    </tr>\n",
       "    <tr>\n",
       "      <th>exang</th>\n",
       "      <td>0.096801</td>\n",
       "      <td>0.141664</td>\n",
       "      <td>-0.394280</td>\n",
       "      <td>0.067616</td>\n",
       "      <td>0.067023</td>\n",
       "      <td>0.025665</td>\n",
       "      <td>-0.070733</td>\n",
       "      <td>-0.378812</td>\n",
       "      <td>1.000000</td>\n",
       "      <td>0.288223</td>\n",
       "      <td>-0.257748</td>\n",
       "      <td>0.115739</td>\n",
       "      <td>0.206754</td>\n",
       "      <td>-0.436757</td>\n",
       "    </tr>\n",
       "    <tr>\n",
       "      <th>oldpeak</th>\n",
       "      <td>0.210013</td>\n",
       "      <td>0.096093</td>\n",
       "      <td>-0.149230</td>\n",
       "      <td>0.193216</td>\n",
       "      <td>0.053952</td>\n",
       "      <td>0.005747</td>\n",
       "      <td>-0.058770</td>\n",
       "      <td>-0.344187</td>\n",
       "      <td>0.288223</td>\n",
       "      <td>1.000000</td>\n",
       "      <td>-0.577537</td>\n",
       "      <td>0.222682</td>\n",
       "      <td>0.210244</td>\n",
       "      <td>-0.430696</td>\n",
       "    </tr>\n",
       "    <tr>\n",
       "      <th>slope</th>\n",
       "      <td>-0.168814</td>\n",
       "      <td>-0.030711</td>\n",
       "      <td>0.119717</td>\n",
       "      <td>-0.121475</td>\n",
       "      <td>-0.004038</td>\n",
       "      <td>-0.059894</td>\n",
       "      <td>0.093045</td>\n",
       "      <td>0.386784</td>\n",
       "      <td>-0.257748</td>\n",
       "      <td>-0.577537</td>\n",
       "      <td>1.000000</td>\n",
       "      <td>-0.080155</td>\n",
       "      <td>-0.104764</td>\n",
       "      <td>0.345877</td>\n",
       "    </tr>\n",
       "    <tr>\n",
       "      <th>ca</th>\n",
       "      <td>0.276326</td>\n",
       "      <td>0.118261</td>\n",
       "      <td>-0.181053</td>\n",
       "      <td>0.101389</td>\n",
       "      <td>0.070511</td>\n",
       "      <td>0.137979</td>\n",
       "      <td>-0.072042</td>\n",
       "      <td>-0.213177</td>\n",
       "      <td>0.115739</td>\n",
       "      <td>0.222682</td>\n",
       "      <td>-0.080155</td>\n",
       "      <td>1.000000</td>\n",
       "      <td>0.151832</td>\n",
       "      <td>-0.391724</td>\n",
       "    </tr>\n",
       "    <tr>\n",
       "      <th>thal</th>\n",
       "      <td>0.068001</td>\n",
       "      <td>0.210041</td>\n",
       "      <td>-0.161736</td>\n",
       "      <td>0.062210</td>\n",
       "      <td>0.098803</td>\n",
       "      <td>-0.032019</td>\n",
       "      <td>-0.011981</td>\n",
       "      <td>-0.096439</td>\n",
       "      <td>0.206754</td>\n",
       "      <td>0.210244</td>\n",
       "      <td>-0.104764</td>\n",
       "      <td>0.151832</td>\n",
       "      <td>1.000000</td>\n",
       "      <td>-0.344029</td>\n",
       "    </tr>\n",
       "    <tr>\n",
       "      <th>target</th>\n",
       "      <td>-0.225439</td>\n",
       "      <td>-0.280937</td>\n",
       "      <td>0.433798</td>\n",
       "      <td>-0.144931</td>\n",
       "      <td>-0.085239</td>\n",
       "      <td>-0.028046</td>\n",
       "      <td>0.137230</td>\n",
       "      <td>0.421741</td>\n",
       "      <td>-0.436757</td>\n",
       "      <td>-0.430696</td>\n",
       "      <td>0.345877</td>\n",
       "      <td>-0.391724</td>\n",
       "      <td>-0.344029</td>\n",
       "      <td>1.000000</td>\n",
       "    </tr>\n",
       "  </tbody>\n",
       "</table>\n",
       "</div>"
      ],
      "text/plain": [
       "               age       sex        cp  trestbps      chol       fbs  \\\n",
       "age       1.000000 -0.098447 -0.068653  0.279351  0.213678  0.121308   \n",
       "sex      -0.098447  1.000000 -0.049353 -0.056769 -0.197912  0.045032   \n",
       "cp       -0.068653 -0.049353  1.000000  0.047608 -0.076904  0.094444   \n",
       "trestbps  0.279351 -0.056769  0.047608  1.000000  0.123174  0.177531   \n",
       "chol      0.213678 -0.197912 -0.076904  0.123174  1.000000  0.013294   \n",
       "fbs       0.121308  0.045032  0.094444  0.177531  0.013294  1.000000   \n",
       "restecg  -0.116211 -0.058196  0.044421 -0.114103 -0.151040 -0.084189   \n",
       "thalach  -0.398522 -0.044020  0.295762 -0.046698 -0.009940 -0.008567   \n",
       "exang     0.096801  0.141664 -0.394280  0.067616  0.067023  0.025665   \n",
       "oldpeak   0.210013  0.096093 -0.149230  0.193216  0.053952  0.005747   \n",
       "slope    -0.168814 -0.030711  0.119717 -0.121475 -0.004038 -0.059894   \n",
       "ca        0.276326  0.118261 -0.181053  0.101389  0.070511  0.137979   \n",
       "thal      0.068001  0.210041 -0.161736  0.062210  0.098803 -0.032019   \n",
       "target   -0.225439 -0.280937  0.433798 -0.144931 -0.085239 -0.028046   \n",
       "\n",
       "           restecg   thalach     exang   oldpeak     slope        ca  \\\n",
       "age      -0.116211 -0.398522  0.096801  0.210013 -0.168814  0.276326   \n",
       "sex      -0.058196 -0.044020  0.141664  0.096093 -0.030711  0.118261   \n",
       "cp        0.044421  0.295762 -0.394280 -0.149230  0.119717 -0.181053   \n",
       "trestbps -0.114103 -0.046698  0.067616  0.193216 -0.121475  0.101389   \n",
       "chol     -0.151040 -0.009940  0.067023  0.053952 -0.004038  0.070511   \n",
       "fbs      -0.084189 -0.008567  0.025665  0.005747 -0.059894  0.137979   \n",
       "restecg   1.000000  0.044123 -0.070733 -0.058770  0.093045 -0.072042   \n",
       "thalach   0.044123  1.000000 -0.378812 -0.344187  0.386784 -0.213177   \n",
       "exang    -0.070733 -0.378812  1.000000  0.288223 -0.257748  0.115739   \n",
       "oldpeak  -0.058770 -0.344187  0.288223  1.000000 -0.577537  0.222682   \n",
       "slope     0.093045  0.386784 -0.257748 -0.577537  1.000000 -0.080155   \n",
       "ca       -0.072042 -0.213177  0.115739  0.222682 -0.080155  1.000000   \n",
       "thal     -0.011981 -0.096439  0.206754  0.210244 -0.104764  0.151832   \n",
       "target    0.137230  0.421741 -0.436757 -0.430696  0.345877 -0.391724   \n",
       "\n",
       "              thal    target  \n",
       "age       0.068001 -0.225439  \n",
       "sex       0.210041 -0.280937  \n",
       "cp       -0.161736  0.433798  \n",
       "trestbps  0.062210 -0.144931  \n",
       "chol      0.098803 -0.085239  \n",
       "fbs      -0.032019 -0.028046  \n",
       "restecg  -0.011981  0.137230  \n",
       "thalach  -0.096439  0.421741  \n",
       "exang     0.206754 -0.436757  \n",
       "oldpeak   0.210244 -0.430696  \n",
       "slope    -0.104764  0.345877  \n",
       "ca        0.151832 -0.391724  \n",
       "thal      1.000000 -0.344029  \n",
       "target   -0.344029  1.000000  "
      ]
     },
     "execution_count": 8,
     "metadata": {},
     "output_type": "execute_result"
    }
   ],
   "source": [
    "df.corr()"
   ]
  },
  {
   "cell_type": "code",
   "execution_count": 9,
   "id": "f625a1b8-b93c-4403-94bb-0ee176f0dbf3",
   "metadata": {},
   "outputs": [
    {
     "data": {
      "text/plain": [
       "<Axes: >"
      ]
     },
     "execution_count": 9,
     "metadata": {},
     "output_type": "execute_result"
    },
    {
     "data": {
      "image/png": "[encoded data removed]",
      "text/plain": [
       "<Figure size 1000x1000 with 2 Axes>"
      ]
     },
     "metadata": {},
     "output_type": "display_data"
    }
   ],
   "source": [
    "plt.figure(figsize=(10,10))\n",
    "sns.heatmap(df.corr(),cmap=[\"r\",\"y\",\"g\",\"b\"],fmt=\".1f\",linewidths=1,annot=True,vmax=1,vmin=-1)"
   ]
  },
  {
   "cell_type": "markdown",
   "id": "eea1f871-8902-45fc-96c0-01c4934baf12",
   "metadata": {},
   "source": [
    "## prepairing data and using ML\n",
    "* models :\n",
    "* logistic regression\n",
    "* kneighbor nearest\n",
    "* randomforrest regression"
   ]
  },
  {
   "cell_type": "code",
   "execution_count": 5,
   "id": "1de2569e-96ad-4a1e-b86b-70359a43a13d",
   "metadata": {},
   "outputs": [],
   "source": [
    "x = df.drop(\"target\",axis=1)\n",
    "y = df[\"target\"]\n",
    "x_train,x_test,y_train,y_test = train_test_split(x,y,train_size=0.7)"
   ]
  },
  {
   "cell_type": "code",
   "execution_count": 13,
   "id": "589913a4-ae7f-4314-9cae-832ddc8d7712",
   "metadata": {},
   "outputs": [],
   "source": [
    "models = {\"logestic regression\":LogisticRegression()\n",
    "          ,\"kneighbor nearest\":KNeighborsClassifier()\n",
    "          ,\"randomforrest regression\": RandomForestClassifier()}\n",
    "def test_models (models,x_train,x_test,y_train,y_test):\n",
    "    np.random.seed(1)\n",
    "    result={}\n",
    "    final_result =[]\n",
    "    for key , value in (models.items()):\n",
    "        value.fit(x_train,y_train)\n",
    "        result[key]=round(value.score(x_test,y_test),2) \n",
    "    return result\n",
    "    \n",
    "def test_models_hyperparams (y_test,y_preds):\n",
    "    input_dict = {\n",
    "    'f1': round(f1_score(y_test,y_preds),2),\n",
    "    'recall': round(recall_score(y_test,y_preds),2),\n",
    "    'precision': round(precision_score(y_test,y_preds),2)\n",
    "        }\n",
    "    pprint.pprint(input_dict)"
   ]
  },
  {
   "cell_type": "code",
   "execution_count": 158,
   "id": "76708a30-f56a-4d44-9d4a-b4b9e19accaa",
   "metadata": {
    "scrolled": true
   },
   "outputs": [
    {
     "name": "stderr",
     "output_type": "stream",
     "text": [
      "C:\\Users\\user\\Desktop\\HeartDiseaseML\\envs\\Lib\\site-packages\\sklearn\\linear_model\\_logistic.py:469: ConvergenceWarning: lbfgs failed to converge (status=1):\n",
      "STOP: TOTAL NO. of ITERATIONS REACHED LIMIT.\n",
      "\n",
      "Increase the number of iterations (max_iter) or scale the data as shown in:\n",
      "    https://scikit-learn.org/stable/modules/preprocessing.html\n",
      "Please also refer to the documentation for alternative solver options:\n",
      "    https://scikit-learn.org/stable/modules/linear_model.html#logistic-regression\n",
      "  n_iter_i = _check_optimize_result(\n"
     ]
    },
    {
     "data": {
      "text/plain": [
       "{'logestic regression': 0.82,\n",
       " 'kneighbor nearest': 0.73,\n",
       " 'randomforrest regression': 0.84}"
      ]
     },
     "execution_count": 158,
     "metadata": {},
     "output_type": "execute_result"
    }
   ],
   "source": [
    "test_models(models,x_train,x_test,y_train,y_test)"
   ]
  },
  {
   "cell_type": "markdown",
   "id": "e6399de9-a87a-4c72-b851-9d434656b9bb",
   "metadata": {},
   "source": [
    "## Kneighbor improving"
   ]
  },
  {
   "cell_type": "code",
   "execution_count": 82,
   "id": "1ec51e82-1490-4bbd-86d9-289444942974",
   "metadata": {},
   "outputs": [
    {
     "name": "stdout",
     "output_type": "stream",
     "text": [
      "Fitting 4 folds for each of 15 candidates, totalling 60 fits\n",
      "[CV] END ........................leaf_size=10, n_neighbors=2; total time=   0.0s\n",
      "[CV] END ........................leaf_size=10, n_neighbors=2; total time=   0.0s\n",
      "[CV] END ........................leaf_size=10, n_neighbors=2; total time=   0.0s\n",
      "[CV] END ........................leaf_size=10, n_neighbors=2; total time=   0.0s\n",
      "[CV] END ........................leaf_size=10, n_neighbors=5; total time=   0.0s\n",
      "[CV] END ........................leaf_size=10, n_neighbors=5; total time=   0.0s\n",
      "[CV] END ........................leaf_size=10, n_neighbors=5; total time=   0.0s\n",
      "[CV] END ........................leaf_size=10, n_neighbors=5; total time=   0.0s\n",
      "[CV] END .......................leaf_size=10, n_neighbors=10; total time=   0.0s\n",
      "[CV] END .......................leaf_size=10, n_neighbors=10; total time=   0.0s\n",
      "[CV] END .......................leaf_size=10, n_neighbors=10; total time=   0.0s\n",
      "[CV] END .......................leaf_size=10, n_neighbors=10; total time=   0.0s\n",
      "[CV] END .......................leaf_size=10, n_neighbors=50; total time=   0.0s\n",
      "[CV] END .......................leaf_size=10, n_neighbors=50; total time=   0.0s\n",
      "[CV] END .......................leaf_size=10, n_neighbors=50; total time=   0.0s\n",
      "[CV] END .......................leaf_size=10, n_neighbors=50; total time=   0.0s\n",
      "[CV] END ......................leaf_size=10, n_neighbors=100; total time=   0.0s\n",
      "[CV] END ......................leaf_size=10, n_neighbors=100; total time=   0.0s\n",
      "[CV] END ......................leaf_size=10, n_neighbors=100; total time=   0.0s\n",
      "[CV] END ......................leaf_size=10, n_neighbors=100; total time=   0.0s\n",
      "[CV] END ........................leaf_size=30, n_neighbors=2; total time=   0.0s\n",
      "[CV] END ........................leaf_size=30, n_neighbors=2; total time=   0.0s\n",
      "[CV] END ........................leaf_size=30, n_neighbors=2; total time=   0.0s\n",
      "[CV] END ........................leaf_size=30, n_neighbors=2; total time=   0.0s\n",
      "[CV] END ........................leaf_size=30, n_neighbors=5; total time=   0.0s\n",
      "[CV] END ........................leaf_size=30, n_neighbors=5; total time=   0.0s\n",
      "[CV] END ........................leaf_size=30, n_neighbors=5; total time=   0.0s\n",
      "[CV] END ........................leaf_size=30, n_neighbors=5; total time=   0.0s\n",
      "[CV] END .......................leaf_size=30, n_neighbors=10; total time=   0.0s\n",
      "[CV] END .......................leaf_size=30, n_neighbors=10; total time=   0.0s\n",
      "[CV] END .......................leaf_size=30, n_neighbors=10; total time=   0.0s\n",
      "[CV] END .......................leaf_size=30, n_neighbors=10; total time=   0.0s\n",
      "[CV] END .......................leaf_size=30, n_neighbors=50; total time=   0.0s\n",
      "[CV] END .......................leaf_size=30, n_neighbors=50; total time=   0.0s\n",
      "[CV] END .......................leaf_size=30, n_neighbors=50; total time=   0.0s\n",
      "[CV] END .......................leaf_size=30, n_neighbors=50; total time=   0.0s\n",
      "[CV] END ......................leaf_size=30, n_neighbors=100; total time=   0.0s\n",
      "[CV] END ......................leaf_size=30, n_neighbors=100; total time=   0.0s\n",
      "[CV] END ......................leaf_size=30, n_neighbors=100; total time=   0.0s\n",
      "[CV] END ......................leaf_size=30, n_neighbors=100; total time=   0.0s\n",
      "[CV] END ........................leaf_size=50, n_neighbors=2; total time=   0.0s\n",
      "[CV] END ........................leaf_size=50, n_neighbors=2; total time=   0.0s\n",
      "[CV] END ........................leaf_size=50, n_neighbors=2; total time=   0.0s\n",
      "[CV] END ........................leaf_size=50, n_neighbors=2; total time=   0.0s\n",
      "[CV] END ........................leaf_size=50, n_neighbors=5; total time=   0.0s\n",
      "[CV] END ........................leaf_size=50, n_neighbors=5; total time=   0.0s\n",
      "[CV] END ........................leaf_size=50, n_neighbors=5; total time=   0.0s\n",
      "[CV] END ........................leaf_size=50, n_neighbors=5; total time=   0.0s\n",
      "[CV] END .......................leaf_size=50, n_neighbors=10; total time=   0.0s\n",
      "[CV] END .......................leaf_size=50, n_neighbors=10; total time=   0.0s\n",
      "[CV] END .......................leaf_size=50, n_neighbors=10; total time=   0.0s\n",
      "[CV] END .......................leaf_size=50, n_neighbors=10; total time=   0.0s\n",
      "[CV] END .......................leaf_size=50, n_neighbors=50; total time=   0.0s\n",
      "[CV] END .......................leaf_size=50, n_neighbors=50; total time=   0.0s\n",
      "[CV] END .......................leaf_size=50, n_neighbors=50; total time=   0.0s\n",
      "[CV] END .......................leaf_size=50, n_neighbors=50; total time=   0.0s\n",
      "[CV] END ......................leaf_size=50, n_neighbors=100; total time=   0.0s\n",
      "[CV] END ......................leaf_size=50, n_neighbors=100; total time=   0.0s\n",
      "[CV] END ......................leaf_size=50, n_neighbors=100; total time=   0.0s\n",
      "[CV] END ......................leaf_size=50, n_neighbors=100; total time=   0.0s\n"
     ]
    },
    {
     "data": {
      "text/plain": [
       "{'n_neighbors': 10, 'leaf_size': 10}"
      ]
     },
     "execution_count": 82,
     "metadata": {},
     "output_type": "execute_result"
    }
   ],
   "source": [
    "gridForKneighbor = {\"n_neighbors\":[2,5,10,50,100],\n",
    "    # \"weights\":'uniform',\n",
    "    # \"algorithm\":'auto',\n",
    "    \"leaf_size\":[10,30,50],\n",
    "   }\n",
    "rsv =RandomizedSearchCV(KNeighborsClassifier(),param_distributions= gridForKneighbor,n_iter=15,cv=4,verbose=2)\n",
    "autpk = rsv.fit(x_train,y_train)\n",
    "autpk.best_params_"
   ]
  },
  {
   "cell_type": "code",
   "execution_count": 83,
   "id": "8e469485-3c64-4854-aa67-98372dae7a11",
   "metadata": {},
   "outputs": [
    {
     "name": "stdout",
     "output_type": "stream",
     "text": [
      "{'f1': 0.68, 'precision': 0.73, 'recall': 0.63}\n"
     ]
    }
   ],
   "source": [
    "\n",
    "autokpreds = autpk.predict(x_test)\n",
    "test_models_hyperparams(y_test,autokpreds)"
   ]
  },
  {
   "cell_type": "code",
   "execution_count": 76,
   "id": "d422ec7a-de1b-44a0-bb67-e4089a28e840",
   "metadata": {},
   "outputs": [
    {
     "data": {
      "text/plain": [
       "0.7142857142857143"
      ]
     },
     "execution_count": 76,
     "metadata": {},
     "output_type": "execute_result"
    }
   ],
   "source": [
    "KNeighborsClassifier().fit(x_train,y_train).score(x_test,y_test)"
   ]
  },
  {
   "cell_type": "code",
   "execution_count": 161,
   "id": "7d2e1c49-b871-4ab7-a699-7d5f6619ce83",
   "metadata": {},
   "outputs": [
    {
     "data": {
      "text/plain": [
       "{'n_neighbors': 10, 'leaf_size': 10}"
      ]
     },
     "execution_count": 161,
     "metadata": {},
     "output_type": "execute_result"
    }
   ],
   "source": [
    "rsv.best_params_"
   ]
  },
  {
   "cell_type": "markdown",
   "id": "8001b2ec-99eb-43a9-a3e2-b4665497b218",
   "metadata": {},
   "source": [
    "## tuning logistic regression and randonforest"
   ]
  },
  {
   "cell_type": "code",
   "execution_count": 187,
   "id": "90095899-5f11-4994-8703-92a818436a54",
   "metadata": {},
   "outputs": [],
   "source": [
    "logistic_grid = {\"C\":np.logspace(-5,5,20),\n",
    "                 'solver': ['liblinear']         \n",
    "               }\n",
    "forrest_grid = {\"n_estimators\":np.arange(5,200,50),\n",
    "               \"min_samples_leaf\":np.arange(1,20,2),\n",
    "               \"min_samples_split\":np.arange(2,20,2),\n",
    "               \"max_depth\":[None,10,3,5]}"
   ]
  },
  {
   "cell_type": "code",
   "execution_count": 188,
   "id": "e6972d33-1184-4284-9d94-a8f91aa692e0",
   "metadata": {},
   "outputs": [],
   "source": [
    "# np.random.seed(21)\n",
    "logistic_rsv = RandomizedSearchCV(LogisticRegression(),logistic_grid , cv=5,verbose=2)\n"
   ]
  },
  {
   "cell_type": "code",
   "execution_count": 189,
   "id": "2037b8d7-bad3-496d-9695-73c9ee8aab53",
   "metadata": {},
   "outputs": [
    {
     "name": "stdout",
     "output_type": "stream",
     "text": [
      "Fitting 5 folds for each of 10 candidates, totalling 50 fits\n",
      "[CV] END .............C=6.1584821106602545, solver=liblinear; total time=   0.0s\n",
      "[CV] END .............C=6.1584821106602545, solver=liblinear; total time=   0.0s\n",
      "[CV] END .............C=6.1584821106602545, solver=liblinear; total time=   0.0s\n",
      "[CV] END .............C=6.1584821106602545, solver=liblinear; total time=   0.0s\n",
      "[CV] END .............C=6.1584821106602545, solver=liblinear; total time=   0.0s\n",
      "[CV] END ..............C=8858.667904100832, solver=liblinear; total time=   0.0s\n",
      "[CV] END ..............C=8858.667904100832, solver=liblinear; total time=   0.0s\n",
      "[CV] END ..............C=8858.667904100832, solver=liblinear; total time=   0.0s\n",
      "[CV] END ..............C=8858.667904100832, solver=liblinear; total time=   0.0s\n",
      "[CV] END ..............C=8858.667904100832, solver=liblinear; total time=   0.0s\n",
      "[CV] END .............C=0.1623776739188721, solver=liblinear; total time=   0.0s\n",
      "[CV] END .............C=0.1623776739188721, solver=liblinear; total time=   0.0s\n",
      "[CV] END .............C=0.1623776739188721, solver=liblinear; total time=   0.0s\n",
      "[CV] END .............C=0.1623776739188721, solver=liblinear; total time=   0.0s\n",
      "[CV] END .............C=0.1623776739188721, solver=liblinear; total time=   0.0s\n",
      "[CV] END ............C=0.01438449888287663, solver=liblinear; total time=   0.0s\n",
      "[CV] END ............C=0.01438449888287663, solver=liblinear; total time=   0.0s\n",
      "[CV] END ............C=0.01438449888287663, solver=liblinear; total time=   0.0s\n",
      "[CV] END ............C=0.01438449888287663, solver=liblinear; total time=   0.0s\n",
      "[CV] END ............C=0.01438449888287663, solver=liblinear; total time=   0.0s\n",
      "[CV] END .............C=2636.6508987303555, solver=liblinear; total time=   0.0s\n",
      "[CV] END .............C=2636.6508987303555, solver=liblinear; total time=   0.0s\n",
      "[CV] END .............C=2636.6508987303555, solver=liblinear; total time=   0.0s\n",
      "[CV] END .............C=2636.6508987303555, solver=liblinear; total time=   0.0s\n",
      "[CV] END .............C=2636.6508987303555, solver=liblinear; total time=   0.0s\n",
      "[CV] END ..............C=69.51927961775606, solver=liblinear; total time=   0.0s\n",
      "[CV] END ..............C=69.51927961775606, solver=liblinear; total time=   0.0s\n",
      "[CV] END ..............C=69.51927961775606, solver=liblinear; total time=   0.0s\n",
      "[CV] END ..............C=69.51927961775606, solver=liblinear; total time=   0.0s\n",
      "[CV] END ..............C=69.51927961775606, solver=liblinear; total time=   0.0s\n",
      "[CV] END ..........C=3.359818286283781e-05, solver=liblinear; total time=   0.0s\n",
      "[CV] END ..........C=3.359818286283781e-05, solver=liblinear; total time=   0.0s\n",
      "[CV] END ..........C=3.359818286283781e-05, solver=liblinear; total time=   0.0s\n",
      "[CV] END ..........C=3.359818286283781e-05, solver=liblinear; total time=   0.0s\n",
      "[CV] END ..........C=3.359818286283781e-05, solver=liblinear; total time=   0.0s\n",
      "[CV] END ...........C=0.004281332398719391, solver=liblinear; total time=   0.0s\n",
      "[CV] END ...........C=0.004281332398719391, solver=liblinear; total time=   0.0s\n",
      "[CV] END ...........C=0.004281332398719391, solver=liblinear; total time=   0.0s\n",
      "[CV] END ...........C=0.004281332398719391, solver=liblinear; total time=   0.0s\n",
      "[CV] END ...........C=0.004281332398719391, solver=liblinear; total time=   0.0s\n",
      "[CV] END .........C=0.00011288378916846884, solver=liblinear; total time=   0.0s\n",
      "[CV] END .........C=0.00011288378916846884, solver=liblinear; total time=   0.0s\n",
      "[CV] END .........C=0.00011288378916846884, solver=liblinear; total time=   0.0s\n",
      "[CV] END .........C=0.00011288378916846884, solver=liblinear; total time=   0.0s\n",
      "[CV] END .........C=0.00011288378916846884, solver=liblinear; total time=   0.0s\n",
      "[CV] END ...........C=0.000379269019073225, solver=liblinear; total time=   0.0s\n",
      "[CV] END ...........C=0.000379269019073225, solver=liblinear; total time=   0.0s\n",
      "[CV] END ...........C=0.000379269019073225, solver=liblinear; total time=   0.0s\n",
      "[CV] END ...........C=0.000379269019073225, solver=liblinear; total time=   0.0s\n",
      "[CV] END ...........C=0.000379269019073225, solver=liblinear; total time=   0.0s\n"
     ]
    },
    {
     "data": {
      "text/plain": [
       "0.8791208791208791"
      ]
     },
     "execution_count": 189,
     "metadata": {},
     "output_type": "execute_result"
    }
   ],
   "source": [
    "logistic_rsv.fit(x_train,y_train)\n",
    "logistic_rsv.score(x_test,y_test)"
   ]
  },
  {
   "cell_type": "code",
   "execution_count": 190,
   "id": "866a97aa-809b-4a09-b70e-c41347e2bd10",
   "metadata": {},
   "outputs": [
    {
     "data": {
      "text/plain": [
       "{'solver': 'liblinear', 'C': 0.1623776739188721}"
      ]
     },
     "execution_count": 190,
     "metadata": {},
     "output_type": "execute_result"
    }
   ],
   "source": [
    "logistic_rsv.best_params_"
   ]
  },
  {
   "cell_type": "markdown",
   "id": "a7257b21-c062-473f-ad57-e3a81ada4ebc",
   "metadata": {},
   "source": [
    "## for randomforest"
   ]
  },
  {
   "cell_type": "code",
   "execution_count": 176,
   "id": "66546ef8-57e2-4079-a7a7-f8e6a080238d",
   "metadata": {},
   "outputs": [],
   "source": [
    "rf_rsv = RandomizedSearchCV(RandomForestClassifier(),forrest_grid , cv=5,verbose=2)\n"
   ]
  },
  {
   "cell_type": "code",
   "execution_count": null,
   "id": "7b0719c7-c761-4394-942a-347663f52060",
   "metadata": {},
   "outputs": [],
   "source": [
    "rf_rsv.fit(x_train,y_train)"
   ]
  },
  {
   "cell_type": "code",
   "execution_count": null,
   "id": "aeb17f25-630e-4abf-b079-056528d8fc45",
   "metadata": {},
   "outputs": [
    {
     "name": "stdout",
     "output_type": "stream",
     "text": [
      "Fitting 5 folds for each of 10 candidates, totalling 50 fits\n",
      "[CV] END max_depth=None, min_samples_leaf=13, min_samples_split=10, n_estimators=155; total time=   0.4s\n",
      "[CV] END max_depth=None, min_samples_leaf=13, min_samples_split=10, n_estimators=155; total time=   0.3s\n",
      "[CV] END max_depth=None, min_samples_leaf=13, min_samples_split=10, n_estimators=155; total time=   0.3s\n",
      "[CV] END max_depth=None, min_samples_leaf=13, min_samples_split=10, n_estimators=155; total time=   0.3s\n",
      "[CV] END max_depth=None, min_samples_leaf=13, min_samples_split=10, n_estimators=155; total time=   0.3s\n",
      "[CV] END max_depth=10, min_samples_leaf=7, min_samples_split=12, n_estimators=5; total time=   0.0s\n",
      "[CV] END max_depth=10, min_samples_leaf=7, min_samples_split=12, n_estimators=5; total time=   0.0s\n",
      "[CV] END max_depth=10, min_samples_leaf=7, min_samples_split=12, n_estimators=5; total time=   0.0s\n",
      "[CV] END max_depth=10, min_samples_leaf=7, min_samples_split=12, n_estimators=5; total time=   0.0s\n",
      "[CV] END max_depth=10, min_samples_leaf=7, min_samples_split=12, n_estimators=5; total time=   0.0s\n",
      "[CV] END max_depth=5, min_samples_leaf=1, min_samples_split=4, n_estimators=105; total time=   0.2s\n",
      "[CV] END max_depth=5, min_samples_leaf=1, min_samples_split=4, n_estimators=105; total time=   0.2s\n",
      "[CV] END max_depth=5, min_samples_leaf=1, min_samples_split=4, n_estimators=105; total time=   0.2s\n",
      "[CV] END max_depth=5, min_samples_leaf=1, min_samples_split=4, n_estimators=105; total time=   0.2s\n",
      "[CV] END max_depth=5, min_samples_leaf=1, min_samples_split=4, n_estimators=105; total time=   0.2s\n",
      "[CV] END max_depth=10, min_samples_leaf=17, min_samples_split=12, n_estimators=105; total time=   0.2s\n",
      "[CV] END max_depth=10, min_samples_leaf=17, min_samples_split=12, n_estimators=105; total time=   0.2s\n",
      "[CV] END max_depth=10, min_samples_leaf=17, min_samples_split=12, n_estimators=105; total time=   0.2s\n",
      "[CV] END max_depth=10, min_samples_leaf=17, min_samples_split=12, n_estimators=105; total time=   0.2s\n",
      "[CV] END max_depth=10, min_samples_leaf=17, min_samples_split=12, n_estimators=105; total time=   0.2s\n",
      "[CV] END max_depth=10, min_samples_leaf=17, min_samples_split=16, n_estimators=55; total time=   0.1s\n",
      "[CV] END max_depth=10, min_samples_leaf=17, min_samples_split=16, n_estimators=55; total time=   0.1s\n",
      "[CV] END max_depth=10, min_samples_leaf=17, min_samples_split=16, n_estimators=55; total time=   0.1s\n",
      "[CV] END max_depth=10, min_samples_leaf=17, min_samples_split=16, n_estimators=55; total time=   0.1s\n",
      "[CV] END max_depth=10, min_samples_leaf=17, min_samples_split=16, n_estimators=55; total time=   0.0s\n",
      "[CV] END max_depth=10, min_samples_leaf=15, min_samples_split=6, n_estimators=55; total time=   0.1s\n",
      "[CV] END max_depth=10, min_samples_leaf=15, min_samples_split=6, n_estimators=55; total time=   0.0s\n",
      "[CV] END max_depth=10, min_samples_leaf=15, min_samples_split=6, n_estimators=55; total time=   0.0s\n",
      "[CV] END max_depth=10, min_samples_leaf=15, min_samples_split=6, n_estimators=55; total time=   0.0s\n",
      "[CV] END max_depth=10, min_samples_leaf=15, min_samples_split=6, n_estimators=55; total time=   0.0s\n",
      "[CV] END max_depth=None, min_samples_leaf=17, min_samples_split=4, n_estimators=155; total time=   0.4s\n",
      "[CV] END max_depth=None, min_samples_leaf=17, min_samples_split=4, n_estimators=155; total time=   0.3s\n",
      "[CV] END max_depth=None, min_samples_leaf=17, min_samples_split=4, n_estimators=155; total time=   0.3s\n",
      "[CV] END max_depth=None, min_samples_leaf=17, min_samples_split=4, n_estimators=155; total time=   0.3s\n",
      "[CV] END max_depth=None, min_samples_leaf=17, min_samples_split=4, n_estimators=155; total time=   0.4s\n",
      "[CV] END max_depth=None, min_samples_leaf=7, min_samples_split=16, n_estimators=105; total time=   0.2s\n",
      "[CV] END max_depth=None, min_samples_leaf=7, min_samples_split=16, n_estimators=105; total time=   0.1s\n",
      "[CV] END max_depth=None, min_samples_leaf=7, min_samples_split=16, n_estimators=105; total time=   0.2s\n",
      "[CV] END max_depth=None, min_samples_leaf=7, min_samples_split=16, n_estimators=105; total time=   0.2s\n",
      "[CV] END max_depth=None, min_samples_leaf=7, min_samples_split=16, n_estimators=105; total time=   0.2s\n",
      "[CV] END max_depth=5, min_samples_leaf=1, min_samples_split=6, n_estimators=155; total time=   0.3s\n",
      "[CV] END max_depth=5, min_samples_leaf=1, min_samples_split=6, n_estimators=155; total time=   0.3s\n",
      "[CV] END max_depth=5, min_samples_leaf=1, min_samples_split=6, n_estimators=155; total time=   0.3s\n",
      "[CV] END max_depth=5, min_samples_leaf=1, min_samples_split=6, n_estimators=155; total time=   0.3s\n",
      "[CV] END max_depth=5, min_samples_leaf=1, min_samples_split=6, n_estimators=155; total time=   0.3s\n",
      "[CV] END max_depth=None, min_samples_leaf=3, min_samples_split=10, n_estimators=105; total time=   0.2s\n",
      "[CV] END max_depth=None, min_samples_leaf=3, min_samples_split=10, n_estimators=105; total time=   0.2s\n",
      "[CV] END max_depth=None, min_samples_leaf=3, min_samples_split=10, n_estimators=105; total time=   0.2s\n",
      "[CV] END max_depth=None, min_samples_leaf=3, min_samples_split=10, n_estimators=105; total time=   0.2s\n",
      "[CV] END max_depth=None, min_samples_leaf=3, min_samples_split=10, n_estimators=105; total time=   0.2s\n"
     ]
    },
    {
     "data": {
      "text/plain": [
       "0.8351648351648352"
      ]
     },
     "execution_count": 213,
     "metadata": {},
     "output_type": "execute_result"
    }
   ],
   "source": [
    "rf_rsv.score(x_test,y_test)"
   ]
  },
  {
   "cell_type": "code",
   "execution_count": 186,
   "id": "d4fbcd87-3001-40d0-8b51-5cd37152046f",
   "metadata": {},
   "outputs": [
    {
     "data": {
      "text/plain": [
       "{'n_estimators': 55,\n",
       " 'min_samples_split': 18,\n",
       " 'min_samples_leaf': 17,\n",
       " 'max_depth': 10}"
      ]
     },
     "execution_count": 186,
     "metadata": {},
     "output_type": "execute_result"
    }
   ],
   "source": [
    "rf_rsv.best_params_"
   ]
  },
  {
   "cell_type": "code",
   "execution_count": 208,
   "id": "090cf89c-8025-46ae-b80a-2088bbe59838",
   "metadata": {},
   "outputs": [
    {
     "data": {
      "text/plain": [
       "<sklearn.metrics._plot.roc_curve.RocCurveDisplay at 0x1c7cbef6c30>"
      ]
     },
     "execution_count": 208,
     "metadata": {},
     "output_type": "execute_result"
    },
    {
     "data": {
      "image/png": "[encoded data removed]",
      "text/plain": [
       "<Figure size 640x480 with 1 Axes>"
      ]
     },
     "metadata": {},
     "output_type": "display_data"
    }
   ],
   "source": [
    "logistic_y_preds=logistic_rsv.predict(x_test)\n",
    "RocCurveDisplay.from_estimator(logistic_rsv,x,y)"
   ]
  },
  {
   "cell_type": "code",
   "execution_count": 210,
   "id": "0a5ab923-5cbc-4b2f-8f7c-31b149d65307",
   "metadata": {},
   "outputs": [
    {
     "data": {
      "image/png": "[encoded data removed]",
      "text/plain": [
       "<Figure size 640x480 with 2 Axes>"
      ]
     },
     "metadata": {},
     "output_type": "display_data"
    }
   ],
   "source": [
    "sns.heatmap(confusion_matrix(y_test,logistic_y_preds),annot=True,fmt=\".0f\")\n",
    "plt.xlabel(\"true\");\n",
    "plt.ylabel(\"predicted\");"
   ]
  },
  {
   "cell_type": "code",
   "execution_count": 212,
   "id": "8a6ad332-b65b-459f-9882-0197ac27b613",
   "metadata": {},
   "outputs": [
    {
     "name": "stdout",
     "output_type": "stream",
     "text": [
      "              precision    recall  f1-score   support\n",
      "\n",
      "           0       0.96      0.71      0.81        34\n",
      "           1       0.85      0.98      0.91        57\n",
      "\n",
      "    accuracy                           0.88        91\n",
      "   macro avg       0.90      0.84      0.86        91\n",
      "weighted avg       0.89      0.88      0.87        91\n",
      "\n"
     ]
    }
   ],
   "source": [
    "print(classification_report(y_test,logistic_y_preds))"
   ]
  },
  {
   "cell_type": "code",
   "execution_count": 221,
   "id": "cb85b8cd-c71b-48e3-85de-4afb1d61fc50",
   "metadata": {},
   "outputs": [
    {
     "name": "stdout",
     "output_type": "stream",
     "text": [
      "Fitting 5 folds for each of 10 candidates, totalling 50 fits\n",
      "[CV] END .............C=233.57214690901213, solver=liblinear; total time=   0.0s\n",
      "[CV] END .............C=233.57214690901213, solver=liblinear; total time=   0.0s\n",
      "[CV] END .............C=233.57214690901213, solver=liblinear; total time=   0.0s\n",
      "[CV] END .............C=233.57214690901213, solver=liblinear; total time=   0.0s\n",
      "[CV] END .............C=233.57214690901213, solver=liblinear; total time=   0.0s\n",
      "[CV] END ..........C=0.0012742749857031334, solver=liblinear; total time=   0.0s\n",
      "[CV] END ..........C=0.0012742749857031334, solver=liblinear; total time=   0.0s\n",
      "[CV] END ..........C=0.0012742749857031334, solver=liblinear; total time=   0.0s\n",
      "[CV] END ..........C=0.0012742749857031334, solver=liblinear; total time=   0.0s\n",
      "[CV] END ..........C=0.0012742749857031334, solver=liblinear; total time=   0.0s\n",
      "[CV] END ..............C=784.7599703514607, solver=liblinear; total time=   0.0s\n",
      "[CV] END ..............C=784.7599703514607, solver=liblinear; total time=   0.0s\n",
      "[CV] END ..............C=784.7599703514607, solver=liblinear; total time=   0.0s\n",
      "[CV] END ..............C=784.7599703514607, solver=liblinear; total time=   0.0s\n",
      "[CV] END ..............C=784.7599703514607, solver=liblinear; total time=   0.0s\n",
      "[CV] END .........C=0.00011288378916846884, solver=liblinear; total time=   0.0s\n",
      "[CV] END .........C=0.00011288378916846884, solver=liblinear; total time=   0.0s\n",
      "[CV] END .........C=0.00011288378916846884, solver=liblinear; total time=   0.0s\n",
      "[CV] END .........C=0.00011288378916846884, solver=liblinear; total time=   0.0s\n",
      "[CV] END .........C=0.00011288378916846884, solver=liblinear; total time=   0.0s\n",
      "[CV] END .............C=2636.6508987303555, solver=liblinear; total time=   0.0s\n",
      "[CV] END .............C=2636.6508987303555, solver=liblinear; total time=   0.0s\n",
      "[CV] END .............C=2636.6508987303555, solver=liblinear; total time=   0.0s\n",
      "[CV] END .............C=2636.6508987303555, solver=liblinear; total time=   0.0s\n",
      "[CV] END .............C=2636.6508987303555, solver=liblinear; total time=   0.0s\n",
      "[CV] END .............C=0.1623776739188721, solver=liblinear; total time=   0.0s\n",
      "[CV] END .............C=0.1623776739188721, solver=liblinear; total time=   0.0s\n",
      "[CV] END .............C=0.1623776739188721, solver=liblinear; total time=   0.0s\n",
      "[CV] END .............C=0.1623776739188721, solver=liblinear; total time=   0.0s\n",
      "[CV] END .............C=0.1623776739188721, solver=liblinear; total time=   0.0s\n",
      "[CV] END ............C=0.04832930238571752, solver=liblinear; total time=   0.0s\n",
      "[CV] END ............C=0.04832930238571752, solver=liblinear; total time=   0.0s\n",
      "[CV] END ............C=0.04832930238571752, solver=liblinear; total time=   0.0s\n",
      "[CV] END ............C=0.04832930238571752, solver=liblinear; total time=   0.0s\n",
      "[CV] END ............C=0.04832930238571752, solver=liblinear; total time=   0.0s\n",
      "[CV] END ..............C=69.51927961775606, solver=liblinear; total time=   0.0s\n",
      "[CV] END ..............C=69.51927961775606, solver=liblinear; total time=   0.0s\n",
      "[CV] END ..............C=69.51927961775606, solver=liblinear; total time=   0.0s\n",
      "[CV] END ..............C=69.51927961775606, solver=liblinear; total time=   0.0s\n",
      "[CV] END ..............C=69.51927961775606, solver=liblinear; total time=   0.0s\n",
      "[CV] END ............C=0.01438449888287663, solver=liblinear; total time=   0.0s\n",
      "[CV] END ............C=0.01438449888287663, solver=liblinear; total time=   0.0s\n",
      "[CV] END ............C=0.01438449888287663, solver=liblinear; total time=   0.0s\n",
      "[CV] END ............C=0.01438449888287663, solver=liblinear; total time=   0.0s\n",
      "[CV] END ............C=0.01438449888287663, solver=liblinear; total time=   0.0s\n",
      "[CV] END ..............C=8858.667904100832, solver=liblinear; total time=   0.0s\n",
      "[CV] END ..............C=8858.667904100832, solver=liblinear; total time=   0.0s\n",
      "[CV] END ..............C=8858.667904100832, solver=liblinear; total time=   0.0s\n",
      "[CV] END ..............C=8858.667904100832, solver=liblinear; total time=   0.0s\n",
      "[CV] END ..............C=8858.667904100832, solver=liblinear; total time=   0.0s\n",
      "Fitting 5 folds for each of 10 candidates, totalling 50 fits\n",
      "[CV] END .........C=0.00011288378916846884, solver=liblinear; total time=   0.0s\n",
      "[CV] END .........C=0.00011288378916846884, solver=liblinear; total time=   0.0s\n",
      "[CV] END .........C=0.00011288378916846884, solver=liblinear; total time=   0.0s\n",
      "[CV] END .........C=0.00011288378916846884, solver=liblinear; total time=   0.0s\n",
      "[CV] END .........C=0.00011288378916846884, solver=liblinear; total time=   0.0s\n",
      "[CV] END ..........C=0.0012742749857031334, solver=liblinear; total time=   0.0s\n",
      "[CV] END ..........C=0.0012742749857031334, solver=liblinear; total time=   0.0s\n",
      "[CV] END ..........C=0.0012742749857031334, solver=liblinear; total time=   0.0s\n",
      "[CV] END ..........C=0.0012742749857031334, solver=liblinear; total time=   0.0s\n",
      "[CV] END ..........C=0.0012742749857031334, solver=liblinear; total time=   0.0s\n",
      "[CV] END ............C=0.01438449888287663, solver=liblinear; total time=   0.0s\n",
      "[CV] END ............C=0.01438449888287663, solver=liblinear; total time=   0.0s\n",
      "[CV] END ............C=0.01438449888287663, solver=liblinear; total time=   0.0s\n",
      "[CV] END ............C=0.01438449888287663, solver=liblinear; total time=   0.0s\n",
      "[CV] END ............C=0.01438449888287663, solver=liblinear; total time=   0.0s\n",
      "[CV] END .............C=1.8329807108324339, solver=liblinear; total time=   0.0s\n",
      "[CV] END .............C=1.8329807108324339, solver=liblinear; total time=   0.0s\n",
      "[CV] END .............C=1.8329807108324339, solver=liblinear; total time=   0.0s\n",
      "[CV] END .............C=1.8329807108324339, solver=liblinear; total time=   0.0s\n",
      "[CV] END .............C=1.8329807108324339, solver=liblinear; total time=   0.0s\n",
      "[CV] END ..............C=69.51927961775606, solver=liblinear; total time=   0.0s\n",
      "[CV] END ..............C=69.51927961775606, solver=liblinear; total time=   0.0s\n",
      "[CV] END ..............C=69.51927961775606, solver=liblinear; total time=   0.0s\n",
      "[CV] END ..............C=69.51927961775606, solver=liblinear; total time=   0.0s\n",
      "[CV] END ..............C=69.51927961775606, solver=liblinear; total time=   0.0s\n",
      "[CV] END ............C=0.04832930238571752, solver=liblinear; total time=   0.0s\n",
      "[CV] END ............C=0.04832930238571752, solver=liblinear; total time=   0.0s\n",
      "[CV] END ............C=0.04832930238571752, solver=liblinear; total time=   0.0s\n",
      "[CV] END ............C=0.04832930238571752, solver=liblinear; total time=   0.0s\n",
      "[CV] END ............C=0.04832930238571752, solver=liblinear; total time=   0.0s\n",
      "[CV] END ..............C=8858.667904100832, solver=liblinear; total time=   0.0s\n",
      "[CV] END ..............C=8858.667904100832, solver=liblinear; total time=   0.0s\n",
      "[CV] END ..............C=8858.667904100832, solver=liblinear; total time=   0.0s\n",
      "[CV] END ..............C=8858.667904100832, solver=liblinear; total time=   0.0s\n",
      "[CV] END ..............C=8858.667904100832, solver=liblinear; total time=   0.0s\n",
      "[CV] END .............C=2636.6508987303555, solver=liblinear; total time=   0.0s\n",
      "[CV] END .............C=2636.6508987303555, solver=liblinear; total time=   0.0s\n",
      "[CV] END .............C=2636.6508987303555, solver=liblinear; total time=   0.0s\n",
      "[CV] END .............C=2636.6508987303555, solver=liblinear; total time=   0.0s\n",
      "[CV] END .............C=2636.6508987303555, solver=liblinear; total time=   0.0s\n",
      "[CV] END ...............C=20.6913808111479, solver=liblinear; total time=   0.0s\n",
      "[CV] END ...............C=20.6913808111479, solver=liblinear; total time=   0.0s\n",
      "[CV] END ...............C=20.6913808111479, solver=liblinear; total time=   0.0s\n",
      "[CV] END ...............C=20.6913808111479, solver=liblinear; total time=   0.0s\n",
      "[CV] END ...............C=20.6913808111479, solver=liblinear; total time=   0.0s\n",
      "[CV] END .............C=6.1584821106602545, solver=liblinear; total time=   0.0s\n",
      "[CV] END .............C=6.1584821106602545, solver=liblinear; total time=   0.0s\n",
      "[CV] END .............C=6.1584821106602545, solver=liblinear; total time=   0.0s\n",
      "[CV] END .............C=6.1584821106602545, solver=liblinear; total time=   0.0s\n",
      "[CV] END .............C=6.1584821106602545, solver=liblinear; total time=   0.0s\n",
      "Fitting 5 folds for each of 10 candidates, totalling 50 fits\n",
      "[CV] END ..............C=29763.51441631313, solver=liblinear; total time=   0.0s\n",
      "[CV] END ..............C=29763.51441631313, solver=liblinear; total time=   0.0s\n",
      "[CV] END ..............C=29763.51441631313, solver=liblinear; total time=   0.0s\n",
      "[CV] END ..............C=29763.51441631313, solver=liblinear; total time=   0.0s\n",
      "[CV] END ..............C=29763.51441631313, solver=liblinear; total time=   0.0s\n",
      "[CV] END .............C=2636.6508987303555, solver=liblinear; total time=   0.0s\n",
      "[CV] END .............C=2636.6508987303555, solver=liblinear; total time=   0.0s\n",
      "[CV] END .............C=2636.6508987303555, solver=liblinear; total time=   0.0s\n",
      "[CV] END .............C=2636.6508987303555, solver=liblinear; total time=   0.0s\n",
      "[CV] END .............C=2636.6508987303555, solver=liblinear; total time=   0.0s\n",
      "[CV] END .......................C=100000.0, solver=liblinear; total time=   0.0s\n",
      "[CV] END .......................C=100000.0, solver=liblinear; total time=   0.0s\n",
      "[CV] END .......................C=100000.0, solver=liblinear; total time=   0.0s\n",
      "[CV] END .......................C=100000.0, solver=liblinear; total time=   0.0s\n",
      "[CV] END .......................C=100000.0, solver=liblinear; total time=   0.0s\n",
      "[CV] END ..........C=0.0012742749857031334, solver=liblinear; total time=   0.0s\n",
      "[CV] END ..........C=0.0012742749857031334, solver=liblinear; total time=   0.0s\n",
      "[CV] END ..........C=0.0012742749857031334, solver=liblinear; total time=   0.0s\n",
      "[CV] END ..........C=0.0012742749857031334, solver=liblinear; total time=   0.0s\n",
      "[CV] END ..........C=0.0012742749857031334, solver=liblinear; total time=   0.0s\n",
      "[CV] END .........C=0.00011288378916846884, solver=liblinear; total time=   0.0s\n",
      "[CV] END .........C=0.00011288378916846884, solver=liblinear; total time=   0.0s\n",
      "[CV] END .........C=0.00011288378916846884, solver=liblinear; total time=   0.0s\n",
      "[CV] END .........C=0.00011288378916846884, solver=liblinear; total time=   0.0s\n",
      "[CV] END .........C=0.00011288378916846884, solver=liblinear; total time=   0.0s\n",
      "[CV] END ..........................C=1e-05, solver=liblinear; total time=   0.0s\n",
      "[CV] END ..........................C=1e-05, solver=liblinear; total time=   0.0s\n",
      "[CV] END ..........................C=1e-05, solver=liblinear; total time=   0.0s\n",
      "[CV] END ..........................C=1e-05, solver=liblinear; total time=   0.0s\n",
      "[CV] END ..........................C=1e-05, solver=liblinear; total time=   0.0s\n",
      "[CV] END ..............C=8858.667904100832, solver=liblinear; total time=   0.0s\n",
      "[CV] END ..............C=8858.667904100832, solver=liblinear; total time=   0.0s\n",
      "[CV] END ..............C=8858.667904100832, solver=liblinear; total time=   0.0s\n",
      "[CV] END ..............C=8858.667904100832, solver=liblinear; total time=   0.0s\n",
      "[CV] END ..............C=8858.667904100832, solver=liblinear; total time=   0.0s\n",
      "[CV] END ..............C=784.7599703514607, solver=liblinear; total time=   0.0s\n",
      "[CV] END ..............C=784.7599703514607, solver=liblinear; total time=   0.0s\n",
      "[CV] END ..............C=784.7599703514607, solver=liblinear; total time=   0.0s\n",
      "[CV] END ..............C=784.7599703514607, solver=liblinear; total time=   0.0s\n",
      "[CV] END ..............C=784.7599703514607, solver=liblinear; total time=   0.0s\n",
      "[CV] END ..............C=69.51927961775606, solver=liblinear; total time=   0.0s\n",
      "[CV] END ..............C=69.51927961775606, solver=liblinear; total time=   0.0s\n",
      "[CV] END ..............C=69.51927961775606, solver=liblinear; total time=   0.0s\n",
      "[CV] END ..............C=69.51927961775606, solver=liblinear; total time=   0.0s\n",
      "[CV] END ..............C=69.51927961775606, solver=liblinear; total time=   0.0s\n",
      "[CV] END ...........C=0.004281332398719391, solver=liblinear; total time=   0.0s\n",
      "[CV] END ...........C=0.004281332398719391, solver=liblinear; total time=   0.0s\n",
      "[CV] END ...........C=0.004281332398719391, solver=liblinear; total time=   0.0s\n",
      "[CV] END ...........C=0.004281332398719391, solver=liblinear; total time=   0.0s\n",
      "[CV] END ...........C=0.004281332398719391, solver=liblinear; total time=   0.0s\n",
      "Fitting 5 folds for each of 10 candidates, totalling 50 fits\n",
      "[CV] END ..............C=29763.51441631313, solver=liblinear; total time=   0.0s\n",
      "[CV] END ..............C=29763.51441631313, solver=liblinear; total time=   0.0s\n",
      "[CV] END ..............C=29763.51441631313, solver=liblinear; total time=   0.0s\n",
      "[CV] END ..............C=29763.51441631313, solver=liblinear; total time=   0.0s\n",
      "[CV] END ..............C=29763.51441631313, solver=liblinear; total time=   0.0s\n",
      "[CV] END ...........C=0.000379269019073225, solver=liblinear; total time=   0.0s\n",
      "[CV] END ...........C=0.000379269019073225, solver=liblinear; total time=   0.0s\n",
      "[CV] END ...........C=0.000379269019073225, solver=liblinear; total time=   0.0s\n",
      "[CV] END ...........C=0.000379269019073225, solver=liblinear; total time=   0.0s\n",
      "[CV] END ...........C=0.000379269019073225, solver=liblinear; total time=   0.0s\n",
      "[CV] END .......................C=100000.0, solver=liblinear; total time=   0.0s\n",
      "[CV] END .......................C=100000.0, solver=liblinear; total time=   0.0s\n",
      "[CV] END .......................C=100000.0, solver=liblinear; total time=   0.0s\n",
      "[CV] END .......................C=100000.0, solver=liblinear; total time=   0.0s\n",
      "[CV] END .......................C=100000.0, solver=liblinear; total time=   0.0s\n",
      "[CV] END ............C=0.04832930238571752, solver=liblinear; total time=   0.0s\n",
      "[CV] END ............C=0.04832930238571752, solver=liblinear; total time=   0.0s\n",
      "[CV] END ............C=0.04832930238571752, solver=liblinear; total time=   0.0s\n",
      "[CV] END ............C=0.04832930238571752, solver=liblinear; total time=   0.0s\n",
      "[CV] END ............C=0.04832930238571752, solver=liblinear; total time=   0.0s\n",
      "[CV] END ..........................C=1e-05, solver=liblinear; total time=   0.0s\n",
      "[CV] END ..........................C=1e-05, solver=liblinear; total time=   0.0s\n",
      "[CV] END ..........................C=1e-05, solver=liblinear; total time=   0.0s\n",
      "[CV] END ..........................C=1e-05, solver=liblinear; total time=   0.0s\n",
      "[CV] END ..........................C=1e-05, solver=liblinear; total time=   0.0s\n",
      "[CV] END .............C=0.5455594781168515, solver=liblinear; total time=   0.0s\n",
      "[CV] END .............C=0.5455594781168515, solver=liblinear; total time=   0.0s\n",
      "[CV] END .............C=0.5455594781168515, solver=liblinear; total time=   0.0s\n",
      "[CV] END .............C=0.5455594781168515, solver=liblinear; total time=   0.0s\n",
      "[CV] END .............C=0.5455594781168515, solver=liblinear; total time=   0.0s\n",
      "[CV] END ...............C=20.6913808111479, solver=liblinear; total time=   0.0s\n",
      "[CV] END ...............C=20.6913808111479, solver=liblinear; total time=   0.0s\n",
      "[CV] END ...............C=20.6913808111479, solver=liblinear; total time=   0.0s\n",
      "[CV] END ...............C=20.6913808111479, solver=liblinear; total time=   0.0s\n",
      "[CV] END ...............C=20.6913808111479, solver=liblinear; total time=   0.0s\n",
      "[CV] END ..............C=784.7599703514607, solver=liblinear; total time=   0.0s\n",
      "[CV] END ..............C=784.7599703514607, solver=liblinear; total time=   0.0s\n",
      "[CV] END ..............C=784.7599703514607, solver=liblinear; total time=   0.0s\n",
      "[CV] END ..............C=784.7599703514607, solver=liblinear; total time=   0.0s\n",
      "[CV] END ..............C=784.7599703514607, solver=liblinear; total time=   0.0s\n",
      "[CV] END ..............C=8858.667904100832, solver=liblinear; total time=   0.0s\n",
      "[CV] END ..............C=8858.667904100832, solver=liblinear; total time=   0.0s\n",
      "[CV] END ..............C=8858.667904100832, solver=liblinear; total time=   0.0s\n",
      "[CV] END ..............C=8858.667904100832, solver=liblinear; total time=   0.0s\n",
      "[CV] END ..............C=8858.667904100832, solver=liblinear; total time=   0.0s\n",
      "[CV] END .............C=1.8329807108324339, solver=liblinear; total time=   0.0s\n",
      "[CV] END .............C=1.8329807108324339, solver=liblinear; total time=   0.0s\n",
      "[CV] END .............C=1.8329807108324339, solver=liblinear; total time=   0.0s\n",
      "[CV] END .............C=1.8329807108324339, solver=liblinear; total time=   0.0s\n",
      "[CV] END .............C=1.8329807108324339, solver=liblinear; total time=   0.0s\n",
      "Fitting 5 folds for each of 10 candidates, totalling 50 fits\n",
      "[CV] END .......................C=100000.0, solver=liblinear; total time=   0.0s\n",
      "[CV] END .......................C=100000.0, solver=liblinear; total time=   0.0s\n",
      "[CV] END .......................C=100000.0, solver=liblinear; total time=   0.0s\n",
      "[CV] END .......................C=100000.0, solver=liblinear; total time=   0.0s\n",
      "[CV] END .......................C=100000.0, solver=liblinear; total time=   0.0s\n",
      "[CV] END ..........C=0.0012742749857031334, solver=liblinear; total time=   0.0s\n",
      "[CV] END ..........C=0.0012742749857031334, solver=liblinear; total time=   0.0s\n",
      "[CV] END ..........C=0.0012742749857031334, solver=liblinear; total time=   0.0s\n",
      "[CV] END ..........C=0.0012742749857031334, solver=liblinear; total time=   0.0s\n",
      "[CV] END ..........C=0.0012742749857031334, solver=liblinear; total time=   0.0s\n",
      "[CV] END ..............C=784.7599703514607, solver=liblinear; total time=   0.0s\n",
      "[CV] END ..............C=784.7599703514607, solver=liblinear; total time=   0.0s\n",
      "[CV] END ..............C=784.7599703514607, solver=liblinear; total time=   0.0s\n",
      "[CV] END ..............C=784.7599703514607, solver=liblinear; total time=   0.0s\n",
      "[CV] END ..............C=784.7599703514607, solver=liblinear; total time=   0.0s\n",
      "[CV] END ..........................C=1e-05, solver=liblinear; total time=   0.0s\n",
      "[CV] END ..........................C=1e-05, solver=liblinear; total time=   0.0s\n",
      "[CV] END ..........................C=1e-05, solver=liblinear; total time=   0.0s\n",
      "[CV] END ..........................C=1e-05, solver=liblinear; total time=   0.0s\n",
      "[CV] END ..........................C=1e-05, solver=liblinear; total time=   0.0s\n",
      "[CV] END ..............C=29763.51441631313, solver=liblinear; total time=   0.0s\n",
      "[CV] END ..............C=29763.51441631313, solver=liblinear; total time=   0.0s\n",
      "[CV] END ..............C=29763.51441631313, solver=liblinear; total time=   0.0s\n",
      "[CV] END ..............C=29763.51441631313, solver=liblinear; total time=   0.0s\n",
      "[CV] END ..............C=29763.51441631313, solver=liblinear; total time=   0.0s\n",
      "[CV] END ............C=0.04832930238571752, solver=liblinear; total time=   0.0s\n",
      "[CV] END ............C=0.04832930238571752, solver=liblinear; total time=   0.0s\n",
      "[CV] END ............C=0.04832930238571752, solver=liblinear; total time=   0.0s\n",
      "[CV] END ............C=0.04832930238571752, solver=liblinear; total time=   0.0s\n",
      "[CV] END ............C=0.04832930238571752, solver=liblinear; total time=   0.0s\n",
      "[CV] END .............C=6.1584821106602545, solver=liblinear; total time=   0.0s\n",
      "[CV] END .............C=6.1584821106602545, solver=liblinear; total time=   0.0s\n",
      "[CV] END .............C=6.1584821106602545, solver=liblinear; total time=   0.0s\n",
      "[CV] END .............C=6.1584821106602545, solver=liblinear; total time=   0.0s\n",
      "[CV] END .............C=6.1584821106602545, solver=liblinear; total time=   0.0s\n",
      "[CV] END .............C=0.1623776739188721, solver=liblinear; total time=   0.0s\n",
      "[CV] END .............C=0.1623776739188721, solver=liblinear; total time=   0.0s\n",
      "[CV] END .............C=0.1623776739188721, solver=liblinear; total time=   0.0s\n",
      "[CV] END .............C=0.1623776739188721, solver=liblinear; total time=   0.0s\n",
      "[CV] END .............C=0.1623776739188721, solver=liblinear; total time=   0.0s\n",
      "[CV] END ...........C=0.000379269019073225, solver=liblinear; total time=   0.0s\n",
      "[CV] END ...........C=0.000379269019073225, solver=liblinear; total time=   0.0s\n",
      "[CV] END ...........C=0.000379269019073225, solver=liblinear; total time=   0.0s\n",
      "[CV] END ...........C=0.000379269019073225, solver=liblinear; total time=   0.0s\n",
      "[CV] END ...........C=0.000379269019073225, solver=liblinear; total time=   0.0s\n",
      "[CV] END ..............C=69.51927961775606, solver=liblinear; total time=   0.0s\n",
      "[CV] END ..............C=69.51927961775606, solver=liblinear; total time=   0.0s\n",
      "[CV] END ..............C=69.51927961775606, solver=liblinear; total time=   0.0s\n",
      "[CV] END ..............C=69.51927961775606, solver=liblinear; total time=   0.0s\n",
      "[CV] END ..............C=69.51927961775606, solver=liblinear; total time=   0.0s\n"
     ]
    },
    {
     "data": {
      "text/plain": [
       "0.884848484848485"
      ]
     },
     "execution_count": 221,
     "metadata": {},
     "output_type": "execute_result"
    }
   ],
   "source": [
    "np.mean(cross_val_score(logistic_rsv,x,y,scoring=\"recall\"))"
   ]
  },
  {
   "cell_type": "code",
   "execution_count": null,
   "id": "8f85ca28-a68c-46da-bfc4-c9b5c4a89a72",
   "metadata": {},
   "outputs": [],
   "source": [
    "clf = LogisticRegression(C=0.1623776739188721,solver=\"liblinear\")"
   ]
  },
  {
   "cell_type": "code",
   "execution_count": 71,
   "id": "dee76ddc-0f5e-4835-a013-030d042f5d69",
   "metadata": {},
   "outputs": [
    {
     "data": {
      "text/html": [
       "<style>#sk-container-id-1 {\n",
       "  /* Definition of color scheme common for light and dark mode */\n",
       "  --sklearn-color-text: black;\n",
       "  --sklearn-color-line: gray;\n",
       "  /* Definition of color scheme for unfitted estimators */\n",
       "  --sklearn-color-unfitted-level-0: #fff5e6;\n",
       "  --sklearn-color-unfitted-level-1: #f6e4d2;\n",
       "  --sklearn-color-unfitted-level-2: #ffe0b3;\n",
       "  --sklearn-color-unfitted-level-3: chocolate;\n",
       "  /* Definition of color scheme for fitted estimators */\n",
       "  --sklearn-color-fitted-level-0: #f0f8ff;\n",
       "  --sklearn-color-fitted-level-1: #d4ebff;\n",
       "  --sklearn-color-fitted-level-2: #b3dbfd;\n",
       "  --sklearn-color-fitted-level-3: cornflowerblue;\n",
       "\n",
       "  /* Specific color for light theme */\n",
       "  --sklearn-color-text-on-default-background: var(--sg-text-color, var(--theme-code-foreground, var(--jp-content-font-color1, black)));\n",
       "  --sklearn-color-background: var(--sg-background-color, var(--theme-background, var(--jp-layout-color0, white)));\n",
       "  --sklearn-color-border-box: var(--sg-text-color, var(--theme-code-foreground, var(--jp-content-font-color1, black)));\n",
       "  --sklearn-color-icon: #696969;\n",
       "\n",
       "  @media (prefers-color-scheme: dark) {\n",
       "    /* Redefinition of color scheme for dark theme */\n",
       "    --sklearn-color-text-on-default-background: var(--sg-text-color, var(--theme-code-foreground, var(--jp-content-font-color1, white)));\n",
       "    --sklearn-color-background: var(--sg-background-color, var(--theme-background, var(--jp-layout-color0, #111)));\n",
       "    --sklearn-color-border-box: var(--sg-text-color, var(--theme-code-foreground, var(--jp-content-font-color1, white)));\n",
       "    --sklearn-color-icon: #878787;\n",
       "  }\n",
       "}\n",
       "\n",
       "#sk-container-id-1 {\n",
       "  color: var(--sklearn-color-text);\n",
       "}\n",
       "\n",
       "#sk-container-id-1 pre {\n",
       "  padding: 0;\n",
       "}\n",
       "\n",
       "#sk-container-id-1 input.sk-hidden--visually {\n",
       "  border: 0;\n",
       "  clip: rect(1px 1px 1px 1px);\n",
       "  clip: rect(1px, 1px, 1px, 1px);\n",
       "  height: 1px;\n",
       "  margin: -1px;\n",
       "  overflow: hidden;\n",
       "  padding: 0;\n",
       "  position: absolute;\n",
       "  width: 1px;\n",
       "}\n",
       "\n",
       "#sk-container-id-1 div.sk-dashed-wrapped {\n",
       "  border: 1px dashed var(--sklearn-color-line);\n",
       "  margin: 0 0.4em 0.5em 0.4em;\n",
       "  box-sizing: border-box;\n",
       "  padding-bottom: 0.4em;\n",
       "  background-color: var(--sklearn-color-background);\n",
       "}\n",
       "\n",
       "#sk-container-id-1 div.sk-container {\n",
       "  /* jupyter's `normalize.less` sets `[hidden] { display: none; }`\n",
       "     but bootstrap.min.css set `[hidden] { display: none !important; }`\n",
       "     so we also need the `!important` here to be able to override the\n",
       "     default hidden behavior on the sphinx rendered scikit-learn.org.\n",
       "     See: https://github.com/scikit-learn/scikit-learn/issues/21755 */\n",
       "  display: inline-block !important;\n",
       "  position: relative;\n",
       "}\n",
       "\n",
       "#sk-container-id-1 div.sk-text-repr-fallback {\n",
       "  display: none;\n",
       "}\n",
       "\n",
       "div.sk-parallel-item,\n",
       "div.sk-serial,\n",
       "div.sk-item {\n",
       "  /* draw centered vertical line to link estimators */\n",
       "  background-image: linear-gradient(var(--sklearn-color-text-on-default-background), var(--sklearn-color-text-on-default-background));\n",
       "  background-size: 2px 100%;\n",
       "  background-repeat: no-repeat;\n",
       "  background-position: center center;\n",
       "}\n",
       "\n",
       "/* Parallel-specific style estimator block */\n",
       "\n",
       "#sk-container-id-1 div.sk-parallel-item::after {\n",
       "  content: \"\";\n",
       "  width: 100%;\n",
       "  border-bottom: 2px solid var(--sklearn-color-text-on-default-background);\n",
       "  flex-grow: 1;\n",
       "}\n",
       "\n",
       "#sk-container-id-1 div.sk-parallel {\n",
       "  display: flex;\n",
       "  align-items: stretch;\n",
       "  justify-content: center;\n",
       "  background-color: var(--sklearn-color-background);\n",
       "  position: relative;\n",
       "}\n",
       "\n",
       "#sk-container-id-1 div.sk-parallel-item {\n",
       "  display: flex;\n",
       "  flex-direction: column;\n",
       "}\n",
       "\n",
       "#sk-container-id-1 div.sk-parallel-item:first-child::after {\n",
       "  align-self: flex-end;\n",
       "  width: 50%;\n",
       "}\n",
       "\n",
       "#sk-container-id-1 div.sk-parallel-item:last-child::after {\n",
       "  align-self: flex-start;\n",
       "  width: 50%;\n",
       "}\n",
       "\n",
       "#sk-container-id-1 div.sk-parallel-item:only-child::after {\n",
       "  width: 0;\n",
       "}\n",
       "\n",
       "/* Serial-specific style estimator block */\n",
       "\n",
       "#sk-container-id-1 div.sk-serial {\n",
       "  display: flex;\n",
       "  flex-direction: column;\n",
       "  align-items: center;\n",
       "  background-color: var(--sklearn-color-background);\n",
       "  padding-right: 1em;\n",
       "  padding-left: 1em;\n",
       "}\n",
       "\n",
       "\n",
       "/* Toggleable style: style used for estimator/Pipeline/ColumnTransformer box that is\n",
       "clickable and can be expanded/collapsed.\n",
       "- Pipeline and ColumnTransformer use this feature and define the default style\n",
       "- Estimators will overwrite some part of the style using the `sk-estimator` class\n",
       "*/\n",
       "\n",
       "/* Pipeline and ColumnTransformer style (default) */\n",
       "\n",
       "#sk-container-id-1 div.sk-toggleable {\n",
       "  /* Default theme specific background. It is overwritten whether we have a\n",
       "  specific estimator or a Pipeline/ColumnTransformer */\n",
       "  background-color: var(--sklearn-color-background);\n",
       "}\n",
       "\n",
       "/* Toggleable label */\n",
       "#sk-container-id-1 label.sk-toggleable__label {\n",
       "  cursor: pointer;\n",
       "  display: block;\n",
       "  width: 100%;\n",
       "  margin-bottom: 0;\n",
       "  padding: 0.5em;\n",
       "  box-sizing: border-box;\n",
       "  text-align: center;\n",
       "}\n",
       "\n",
       "#sk-container-id-1 label.sk-toggleable__label-arrow:before {\n",
       "  /* Arrow on the left of the label */\n",
       "  content: \"▸\";\n",
       "  float: left;\n",
       "  margin-right: 0.25em;\n",
       "  color: var(--sklearn-color-icon);\n",
       "}\n",
       "\n",
       "#sk-container-id-1 label.sk-toggleable__label-arrow:hover:before {\n",
       "  color: var(--sklearn-color-text);\n",
       "}\n",
       "\n",
       "/* Toggleable content - dropdown */\n",
       "\n",
       "#sk-container-id-1 div.sk-toggleable__content {\n",
       "  max-height: 0;\n",
       "  max-width: 0;\n",
       "  overflow: hidden;\n",
       "  text-align: left;\n",
       "  /* unfitted */\n",
       "  background-color: var(--sklearn-color-unfitted-level-0);\n",
       "}\n",
       "\n",
       "#sk-container-id-1 div.sk-toggleable__content.fitted {\n",
       "  /* fitted */\n",
       "  background-color: var(--sklearn-color-fitted-level-0);\n",
       "}\n",
       "\n",
       "#sk-container-id-1 div.sk-toggleable__content pre {\n",
       "  margin: 0.2em;\n",
       "  border-radius: 0.25em;\n",
       "  color: var(--sklearn-color-text);\n",
       "  /* unfitted */\n",
       "  background-color: var(--sklearn-color-unfitted-level-0);\n",
       "}\n",
       "\n",
       "#sk-container-id-1 div.sk-toggleable__content.fitted pre {\n",
       "  /* unfitted */\n",
       "  background-color: var(--sklearn-color-fitted-level-0);\n",
       "}\n",
       "\n",
       "#sk-container-id-1 input.sk-toggleable__control:checked~div.sk-toggleable__content {\n",
       "  /* Expand drop-down */\n",
       "  max-height: 200px;\n",
       "  max-width: 100%;\n",
       "  overflow: auto;\n",
       "}\n",
       "\n",
       "#sk-container-id-1 input.sk-toggleable__control:checked~label.sk-toggleable__label-arrow:before {\n",
       "  content: \"▾\";\n",
       "}\n",
       "\n",
       "/* Pipeline/ColumnTransformer-specific style */\n",
       "\n",
       "#sk-container-id-1 div.sk-label input.sk-toggleable__control:checked~label.sk-toggleable__label {\n",
       "  color: var(--sklearn-color-text);\n",
       "  background-color: var(--sklearn-color-unfitted-level-2);\n",
       "}\n",
       "\n",
       "#sk-container-id-1 div.sk-label.fitted input.sk-toggleable__control:checked~label.sk-toggleable__label {\n",
       "  background-color: var(--sklearn-color-fitted-level-2);\n",
       "}\n",
       "\n",
       "/* Estimator-specific style */\n",
       "\n",
       "/* Colorize estimator box */\n",
       "#sk-container-id-1 div.sk-estimator input.sk-toggleable__control:checked~label.sk-toggleable__label {\n",
       "  /* unfitted */\n",
       "  background-color: var(--sklearn-color-unfitted-level-2);\n",
       "}\n",
       "\n",
       "#sk-container-id-1 div.sk-estimator.fitted input.sk-toggleable__control:checked~label.sk-toggleable__label {\n",
       "  /* fitted */\n",
       "  background-color: var(--sklearn-color-fitted-level-2);\n",
       "}\n",
       "\n",
       "#sk-container-id-1 div.sk-label label.sk-toggleable__label,\n",
       "#sk-container-id-1 div.sk-label label {\n",
       "  /* The background is the default theme color */\n",
       "  color: var(--sklearn-color-text-on-default-background);\n",
       "}\n",
       "\n",
       "/* On hover, darken the color of the background */\n",
       "#sk-container-id-1 div.sk-label:hover label.sk-toggleable__label {\n",
       "  color: var(--sklearn-color-text);\n",
       "  background-color: var(--sklearn-color-unfitted-level-2);\n",
       "}\n",
       "\n",
       "/* Label box, darken color on hover, fitted */\n",
       "#sk-container-id-1 div.sk-label.fitted:hover label.sk-toggleable__label.fitted {\n",
       "  color: var(--sklearn-color-text);\n",
       "  background-color: var(--sklearn-color-fitted-level-2);\n",
       "}\n",
       "\n",
       "/* Estimator label */\n",
       "\n",
       "#sk-container-id-1 div.sk-label label {\n",
       "  font-family: monospace;\n",
       "  font-weight: bold;\n",
       "  display: inline-block;\n",
       "  line-height: 1.2em;\n",
       "}\n",
       "\n",
       "#sk-container-id-1 div.sk-label-container {\n",
       "  text-align: center;\n",
       "}\n",
       "\n",
       "/* Estimator-specific */\n",
       "#sk-container-id-1 div.sk-estimator {\n",
       "  font-family: monospace;\n",
       "  border: 1px dotted var(--sklearn-color-border-box);\n",
       "  border-radius: 0.25em;\n",
       "  box-sizing: border-box;\n",
       "  margin-bottom: 0.5em;\n",
       "  /* unfitted */\n",
       "  background-color: var(--sklearn-color-unfitted-level-0);\n",
       "}\n",
       "\n",
       "#sk-container-id-1 div.sk-estimator.fitted {\n",
       "  /* fitted */\n",
       "  background-color: var(--sklearn-color-fitted-level-0);\n",
       "}\n",
       "\n",
       "/* on hover */\n",
       "#sk-container-id-1 div.sk-estimator:hover {\n",
       "  /* unfitted */\n",
       "  background-color: var(--sklearn-color-unfitted-level-2);\n",
       "}\n",
       "\n",
       "#sk-container-id-1 div.sk-estimator.fitted:hover {\n",
       "  /* fitted */\n",
       "  background-color: var(--sklearn-color-fitted-level-2);\n",
       "}\n",
       "\n",
       "/* Specification for estimator info (e.g. \"i\" and \"?\") */\n",
       "\n",
       "/* Common style for \"i\" and \"?\" */\n",
       "\n",
       ".sk-estimator-doc-link,\n",
       "a:link.sk-estimator-doc-link,\n",
       "a:visited.sk-estimator-doc-link {\n",
       "  float: right;\n",
       "  font-size: smaller;\n",
       "  line-height: 1em;\n",
       "  font-family: monospace;\n",
       "  background-color: var(--sklearn-color-background);\n",
       "  border-radius: 1em;\n",
       "  height: 1em;\n",
       "  width: 1em;\n",
       "  text-decoration: none !important;\n",
       "  margin-left: 1ex;\n",
       "  /* unfitted */\n",
       "  border: var(--sklearn-color-unfitted-level-1) 1pt solid;\n",
       "  color: var(--sklearn-color-unfitted-level-1);\n",
       "}\n",
       "\n",
       ".sk-estimator-doc-link.fitted,\n",
       "a:link.sk-estimator-doc-link.fitted,\n",
       "a:visited.sk-estimator-doc-link.fitted {\n",
       "  /* fitted */\n",
       "  border: var(--sklearn-color-fitted-level-1) 1pt solid;\n",
       "  color: var(--sklearn-color-fitted-level-1);\n",
       "}\n",
       "\n",
       "/* On hover */\n",
       "div.sk-estimator:hover .sk-estimator-doc-link:hover,\n",
       ".sk-estimator-doc-link:hover,\n",
       "div.sk-label-container:hover .sk-estimator-doc-link:hover,\n",
       ".sk-estimator-doc-link:hover {\n",
       "  /* unfitted */\n",
       "  background-color: var(--sklearn-color-unfitted-level-3);\n",
       "  color: var(--sklearn-color-background);\n",
       "  text-decoration: none;\n",
       "}\n",
       "\n",
       "div.sk-estimator.fitted:hover .sk-estimator-doc-link.fitted:hover,\n",
       ".sk-estimator-doc-link.fitted:hover,\n",
       "div.sk-label-container:hover .sk-estimator-doc-link.fitted:hover,\n",
       ".sk-estimator-doc-link.fitted:hover {\n",
       "  /* fitted */\n",
       "  background-color: var(--sklearn-color-fitted-level-3);\n",
       "  color: var(--sklearn-color-background);\n",
       "  text-decoration: none;\n",
       "}\n",
       "\n",
       "/* Span, style for the box shown on hovering the info icon */\n",
       ".sk-estimator-doc-link span {\n",
       "  display: none;\n",
       "  z-index: 9999;\n",
       "  position: relative;\n",
       "  font-weight: normal;\n",
       "  right: .2ex;\n",
       "  padding: .5ex;\n",
       "  margin: .5ex;\n",
       "  width: min-content;\n",
       "  min-width: 20ex;\n",
       "  max-width: 50ex;\n",
       "  color: var(--sklearn-color-text);\n",
       "  box-shadow: 2pt 2pt 4pt #999;\n",
       "  /* unfitted */\n",
       "  background: var(--sklearn-color-unfitted-level-0);\n",
       "  border: .5pt solid var(--sklearn-color-unfitted-level-3);\n",
       "}\n",
       "\n",
       ".sk-estimator-doc-link.fitted span {\n",
       "  /* fitted */\n",
       "  background: var(--sklearn-color-fitted-level-0);\n",
       "  border: var(--sklearn-color-fitted-level-3);\n",
       "}\n",
       "\n",
       ".sk-estimator-doc-link:hover span {\n",
       "  display: block;\n",
       "}\n",
       "\n",
       "/* \"?\"-specific style due to the `<a>` HTML tag */\n",
       "\n",
       "#sk-container-id-1 a.estimator_doc_link {\n",
       "  float: right;\n",
       "  font-size: 1rem;\n",
       "  line-height: 1em;\n",
       "  font-family: monospace;\n",
       "  background-color: var(--sklearn-color-background);\n",
       "  border-radius: 1rem;\n",
       "  height: 1rem;\n",
       "  width: 1rem;\n",
       "  text-decoration: none;\n",
       "  /* unfitted */\n",
       "  color: var(--sklearn-color-unfitted-level-1);\n",
       "  border: var(--sklearn-color-unfitted-level-1) 1pt solid;\n",
       "}\n",
       "\n",
       "#sk-container-id-1 a.estimator_doc_link.fitted {\n",
       "  /* fitted */\n",
       "  border: var(--sklearn-color-fitted-level-1) 1pt solid;\n",
       "  color: var(--sklearn-color-fitted-level-1);\n",
       "}\n",
       "\n",
       "/* On hover */\n",
       "#sk-container-id-1 a.estimator_doc_link:hover {\n",
       "  /* unfitted */\n",
       "  background-color: var(--sklearn-color-unfitted-level-3);\n",
       "  color: var(--sklearn-color-background);\n",
       "  text-decoration: none;\n",
       "}\n",
       "\n",
       "#sk-container-id-1 a.estimator_doc_link.fitted:hover {\n",
       "  /* fitted */\n",
       "  background-color: var(--sklearn-color-fitted-level-3);\n",
       "}\n",
       "</style><div id=\"sk-container-id-1\" class=\"sk-top-container\"><div class=\"sk-text-repr-fallback\"><pre>LogisticRegression(C=0.1623776739188721, solver=&#x27;liblinear&#x27;)</pre><b>In a Jupyter environment, please rerun this cell to show the HTML representation or trust the notebook. <br />On GitHub, the HTML representation is unable to render, please try loading this page with nbviewer.org.</b></div><div class=\"sk-container\" hidden><div class=\"sk-item\"><div class=\"sk-estimator fitted sk-toggleable\"><input class=\"sk-toggleable__control sk-hidden--visually\" id=\"sk-estimator-id-1\" type=\"checkbox\" checked><label for=\"sk-estimator-id-1\" class=\"sk-toggleable__label fitted sk-toggleable__label-arrow fitted\">&nbsp;&nbsp;LogisticRegression<a class=\"sk-estimator-doc-link fitted\" rel=\"noreferrer\" target=\"_blank\" href=\"https://scikit-learn.org/1.5/modules/generated/sklearn.linear_model.LogisticRegression.html\">?<span>Documentation for LogisticRegression</span></a><span class=\"sk-estimator-doc-link fitted\">i<span>Fitted</span></span></label><div class=\"sk-toggleable__content fitted\"><pre>LogisticRegression(C=0.1623776739188721, solver=&#x27;liblinear&#x27;)</pre></div> </div></div></div></div>"
      ],
      "text/plain": [
       "LogisticRegression(C=0.1623776739188721, solver='liblinear')"
      ]
     },
     "execution_count": 71,
     "metadata": {},
     "output_type": "execute_result"
    }
   ],
   "source": [
    "clf.fit(x_train,y_train)"
   ]
  },
  {
   "cell_type": "code",
   "execution_count": 72,
   "id": "b2eccf14-f1e4-4231-84c8-bfeabe3d69f3",
   "metadata": {},
   "outputs": [],
   "source": [
    "rf_model = RandomForestClassifier(n_estimators=100).fit(x_train,y_train)"
   ]
  },
  {
   "cell_type": "code",
   "execution_count": 73,
   "id": "4b545e23-88e6-4987-8587-99c28edab250",
   "metadata": {},
   "outputs": [
    {
     "name": "stdout",
     "output_type": "stream",
     "text": [
      "{'f1': 0.82, 'precision': 0.84, 'recall': 0.81}\n"
     ]
    }
   ],
   "source": [
    "test_models_hyperparams(y_test, rf_model.predict(x_test))"
   ]
  },
  {
   "cell_type": "code",
   "execution_count": null,
   "id": "0e6d4445-7dcb-4442-a892-4b06f417c7ac",
   "metadata": {},
   "outputs": [
    {
     "data": {
      "text/plain": [
       "array([[ 1.35317375e-02, -6.23628238e-01,  5.44948552e-01,\n",
       "        -1.75667860e-02, -6.31971924e-04, -9.11384854e-02,\n",
       "         4.49248970e-01,  2.30534400e-02, -6.37501234e-01,\n",
       "        -2.82056908e-01,  3.89809047e-01, -8.00389726e-01,\n",
       "        -6.27937902e-01]])"
      ]
     },
     "execution_count": 6,
     "metadata": {},
     "output_type": "execute_result"
    }
   ],
   "source": [
    "clf.coef_"
   ]
  },
  {
   "cell_type": "code",
   "execution_count": 230,
   "id": "dda380aa-0306-487a-8956-ed9d34f7d0cc",
   "metadata": {},
   "outputs": [
    {
     "data": {
      "text/html": [
       "<div>\n",
       "<style scoped>\n",
       "    .dataframe tbody tr th:only-of-type {\n",
       "        vertical-align: middle;\n",
       "    }\n",
       "\n",
       "    .dataframe tbody tr th {\n",
       "        vertical-align: top;\n",
       "    }\n",
       "\n",
       "    .dataframe thead th {\n",
       "        text-align: right;\n",
       "    }\n",
       "</style>\n",
       "<table border=\"1\" class=\"dataframe\">\n",
       "  <thead>\n",
       "    <tr style=\"text-align: right;\">\n",
       "      <th></th>\n",
       "      <th>age</th>\n",
       "      <th>sex</th>\n",
       "      <th>cp</th>\n",
       "      <th>trestbps</th>\n",
       "      <th>chol</th>\n",
       "      <th>fbs</th>\n",
       "      <th>restecg</th>\n",
       "      <th>thalach</th>\n",
       "      <th>exang</th>\n",
       "      <th>oldpeak</th>\n",
       "      <th>slope</th>\n",
       "      <th>ca</th>\n",
       "      <th>thal</th>\n",
       "      <th>target</th>\n",
       "    </tr>\n",
       "  </thead>\n",
       "  <tbody>\n",
       "    <tr>\n",
       "      <th>0</th>\n",
       "      <td>63</td>\n",
       "      <td>1</td>\n",
       "      <td>3</td>\n",
       "      <td>145</td>\n",
       "      <td>233</td>\n",
       "      <td>1</td>\n",
       "      <td>0</td>\n",
       "      <td>150</td>\n",
       "      <td>0</td>\n",
       "      <td>2.3</td>\n",
       "      <td>0</td>\n",
       "      <td>0</td>\n",
       "      <td>1</td>\n",
       "      <td>1</td>\n",
       "    </tr>\n",
       "    <tr>\n",
       "      <th>1</th>\n",
       "      <td>37</td>\n",
       "      <td>1</td>\n",
       "      <td>2</td>\n",
       "      <td>130</td>\n",
       "      <td>250</td>\n",
       "      <td>0</td>\n",
       "      <td>1</td>\n",
       "      <td>187</td>\n",
       "      <td>0</td>\n",
       "      <td>3.5</td>\n",
       "      <td>0</td>\n",
       "      <td>0</td>\n",
       "      <td>2</td>\n",
       "      <td>1</td>\n",
       "    </tr>\n",
       "    <tr>\n",
       "      <th>2</th>\n",
       "      <td>41</td>\n",
       "      <td>0</td>\n",
       "      <td>1</td>\n",
       "      <td>130</td>\n",
       "      <td>204</td>\n",
       "      <td>0</td>\n",
       "      <td>0</td>\n",
       "      <td>172</td>\n",
       "      <td>0</td>\n",
       "      <td>1.4</td>\n",
       "      <td>2</td>\n",
       "      <td>0</td>\n",
       "      <td>2</td>\n",
       "      <td>1</td>\n",
       "    </tr>\n",
       "    <tr>\n",
       "      <th>3</th>\n",
       "      <td>56</td>\n",
       "      <td>1</td>\n",
       "      <td>1</td>\n",
       "      <td>120</td>\n",
       "      <td>236</td>\n",
       "      <td>0</td>\n",
       "      <td>1</td>\n",
       "      <td>178</td>\n",
       "      <td>0</td>\n",
       "      <td>0.8</td>\n",
       "      <td>2</td>\n",
       "      <td>0</td>\n",
       "      <td>2</td>\n",
       "      <td>1</td>\n",
       "    </tr>\n",
       "    <tr>\n",
       "      <th>4</th>\n",
       "      <td>57</td>\n",
       "      <td>0</td>\n",
       "      <td>0</td>\n",
       "      <td>120</td>\n",
       "      <td>354</td>\n",
       "      <td>0</td>\n",
       "      <td>1</td>\n",
       "      <td>163</td>\n",
       "      <td>1</td>\n",
       "      <td>0.6</td>\n",
       "      <td>2</td>\n",
       "      <td>0</td>\n",
       "      <td>2</td>\n",
       "      <td>1</td>\n",
       "    </tr>\n",
       "  </tbody>\n",
       "</table>\n",
       "</div>"
      ],
      "text/plain": [
       "   age  sex  cp  trestbps  chol  fbs  restecg  thalach  exang  oldpeak  slope  \\\n",
       "0   63    1   3       145   233    1        0      150      0      2.3      0   \n",
       "1   37    1   2       130   250    0        1      187      0      3.5      0   \n",
       "2   41    0   1       130   204    0        0      172      0      1.4      2   \n",
       "3   56    1   1       120   236    0        1      178      0      0.8      2   \n",
       "4   57    0   0       120   354    0        1      163      1      0.6      2   \n",
       "\n",
       "   ca  thal  target  \n",
       "0   0     1       1  \n",
       "1   0     2       1  \n",
       "2   0     2       1  \n",
       "3   0     2       1  \n",
       "4   0     2       1  "
      ]
     },
     "execution_count": 230,
     "metadata": {},
     "output_type": "execute_result"
    }
   ],
   "source": [
    "df.head()"
   ]
  },
  {
   "cell_type": "code",
   "execution_count": 232,
   "id": "87b5d4e5-6422-4ad8-a673-1b3bc7ec3fd0",
   "metadata": {},
   "outputs": [
    {
     "data": {
      "text/html": [
       "<div>\n",
       "<style scoped>\n",
       "    .dataframe tbody tr th:only-of-type {\n",
       "        vertical-align: middle;\n",
       "    }\n",
       "\n",
       "    .dataframe tbody tr th {\n",
       "        vertical-align: top;\n",
       "    }\n",
       "\n",
       "    .dataframe thead th {\n",
       "        text-align: right;\n",
       "    }\n",
       "</style>\n",
       "<table border=\"1\" class=\"dataframe\">\n",
       "  <thead>\n",
       "    <tr style=\"text-align: right;\">\n",
       "      <th></th>\n",
       "      <th>age</th>\n",
       "      <th>sex</th>\n",
       "      <th>cp</th>\n",
       "      <th>trestbps</th>\n",
       "      <th>chol</th>\n",
       "      <th>fbs</th>\n",
       "      <th>restecg</th>\n",
       "      <th>thalach</th>\n",
       "      <th>exang</th>\n",
       "      <th>oldpeak</th>\n",
       "      <th>slope</th>\n",
       "      <th>ca</th>\n",
       "      <th>thal</th>\n",
       "    </tr>\n",
       "  </thead>\n",
       "  <tbody>\n",
       "    <tr>\n",
       "      <th>0</th>\n",
       "      <td>0.009654</td>\n",
       "      <td>-0.756962</td>\n",
       "      <td>0.646899</td>\n",
       "      <td>-0.013034</td>\n",
       "      <td>-0.001419</td>\n",
       "      <td>-0.120718</td>\n",
       "      <td>0.377564</td>\n",
       "      <td>0.021844</td>\n",
       "      <td>-0.582607</td>\n",
       "      <td>-0.414909</td>\n",
       "      <td>0.275859</td>\n",
       "      <td>-0.565163</td>\n",
       "      <td>-0.571852</td>\n",
       "    </tr>\n",
       "  </tbody>\n",
       "</table>\n",
       "</div>"
      ],
      "text/plain": [
       "        age       sex        cp  trestbps      chol       fbs   restecg  \\\n",
       "0  0.009654 -0.756962  0.646899 -0.013034 -0.001419 -0.120718  0.377564   \n",
       "\n",
       "    thalach     exang   oldpeak     slope        ca      thal  \n",
       "0  0.021844 -0.582607 -0.414909  0.275859 -0.565163 -0.571852  "
      ]
     },
     "execution_count": 232,
     "metadata": {},
     "output_type": "execute_result"
    }
   ],
   "source": [
    "coef_check = pd.DataFrame(clf.coef_,columns= x.columns)\n",
    "coef_check"
   ]
  },
  {
   "cell_type": "code",
   "execution_count": 238,
   "id": "9eb5e5b0-040f-494d-9a4e-6a829ee37cfc",
   "metadata": {},
   "outputs": [
    {
     "data": {
      "text/plain": [
       "{'age': 0.009654414853236313,\n",
       " 'sex': -0.756962040462405,\n",
       " 'cp': 0.6468988072691855,\n",
       " 'trestbps': -0.013034158515380964,\n",
       " 'chol': -0.0014186124360998126,\n",
       " 'fbs': -0.12071838082250272,\n",
       " 'restecg': 0.37756402379371223,\n",
       " 'thalach': 0.02184400346287311,\n",
       " 'exang': -0.582607295194888,\n",
       " 'oldpeak': -0.4149094966992886,\n",
       " 'slope': 0.27585913894430497,\n",
       " 'ca': -0.5651626009563715,\n",
       " 'thal': -0.5718517832341259}"
      ]
     },
     "execution_count": 238,
     "metadata": {},
     "output_type": "execute_result"
    }
   ],
   "source": [
    "feature_dict = dict(zip(x.columns,clf.coef_[0]))\n",
    "feature_dict"
   ]
  },
  {
   "cell_type": "code",
   "execution_count": 251,
   "id": "7eb4982f-a3f6-4db7-9c18-a20895c4c0c9",
   "metadata": {},
   "outputs": [
    {
     "data": {
      "text/plain": [
       "<Axes: >"
      ]
     },
     "execution_count": 251,
     "metadata": {},
     "output_type": "execute_result"
    },
    {
     "data": {
      "image/png": "[encoded data removed]",
      "text/plain": [
       "<Figure size 640x480 with 1 Axes>"
      ]
     },
     "metadata": {},
     "output_type": "display_data"
    }
   ],
   "source": [
    "coef_check.plot.bar()"
   ]
  },
  {
   "cell_type": "code",
   "execution_count": 249,
   "id": "6d8e2420-8c41-491c-bfe2-80f88745a47f",
   "metadata": {},
   "outputs": [
    {
     "data": {
      "text/plain": [
       "<Axes: >"
      ]
     },
     "execution_count": 249,
     "metadata": {},
     "output_type": "execute_result"
    },
    {
     "data": {
      "image/png": "[encoded data removed]",
      "text/plain": [
       "<Figure size 640x480 with 1 Axes>"
      ]
     },
     "metadata": {},
     "output_type": "display_data"
    }
   ],
   "source": [
    "nfeature_dict = pd.DataFrame(feature_dict,index=[0])\n",
    "nfeature_dict.T.plot.bar(legend=False)"
   ]
  },
  {
   "cell_type": "code",
   "execution_count": 48,
   "id": "76685138-72ee-49b7-aabb-12d3f72a19f8",
   "metadata": {},
   "outputs": [
    {
     "data": {
      "text/plain": [
       "['Logistic_Regrassion_88.joblib']"
      ]
     },
     "execution_count": 48,
     "metadata": {},
     "output_type": "execute_result"
    }
   ],
   "source": [
    "joblib.dump(clf,\"Logistic_Regrassion_88.joblib\")"
   ]
  },
  {
   "cell_type": "code",
   "execution_count": 49,
   "id": "17e9e79a-b0f5-46aa-91db-1b1098df6b45",
   "metadata": {},
   "outputs": [],
   "source": [
    "loaded = joblib.load(\"Logistic_Regrassion_88.joblib\")"
   ]
  },
  {
   "cell_type": "code",
   "execution_count": 74,
   "id": "4408078a-2bf5-4634-9c52-b4bcea56d4b7",
   "metadata": {},
   "outputs": [
    {
     "data": {
      "text/plain": [
       "0.8131868131868132"
      ]
     },
     "execution_count": 74,
     "metadata": {},
     "output_type": "execute_result"
    }
   ],
   "source": [
    "loaded.score(x_test,y_test)"
   ]
  },
  {
   "cell_type": "code",
   "execution_count": 75,
   "id": "c26f8d1b-124d-4875-a6ab-d70976b8378f",
   "metadata": {},
   "outputs": [
    {
     "name": "stdout",
     "output_type": "stream",
     "text": [
      "{'f1': 0.84, 'precision': 0.83, 'recall': 0.85}\n"
     ]
    }
   ],
   "source": [
    "loaded_preds = loaded.predict(x_test)\n",
    "test_models_hyperparams(y_test,loaded_preds)"
   ]
  },
  {
   "cell_type": "code",
   "execution_count": 1,
   "id": "572f63a2-aa43-4bd7-b2af-978017c1b9be",
   "metadata": {},
   "outputs": [],
   "source": [
    "import xgboost as xgb"
   ]
  },
  {
   "cell_type": "code",
   "execution_count": 67,
   "id": "b0f4cf4b-f399-45d9-94b0-16b146edc1a9",
   "metadata": {},
   "outputs": [],
   "source": [
    "train = xgb.DMatrix(x_train,y_train)\n",
    "test = xgb.DMatrix(x_test,y_test)\n",
    "params = {'max_depth':10,\n",
    "          'eta':0.1,\n",
    "         'objective': 'binary:hinge'\n",
    "         }\n",
    "iters = 100"
   ]
  },
  {
   "cell_type": "code",
   "execution_count": 68,
   "id": "42dbde64-57c8-4def-abe8-dfe6c30e0505",
   "metadata": {},
   "outputs": [
    {
     "name": "stdout",
     "output_type": "stream",
     "text": [
      "64.7 ms ± 2.4 ms per loop (mean ± std. dev. of 7 runs, 10 loops each)\n"
     ]
    }
   ],
   "source": [
    "%timeit xgb_model = xgb.train(params,train,iters)"
   ]
  },
  {
   "cell_type": "code",
   "execution_count": 55,
   "id": "4db3de91-7707-4780-b1ba-9d51380b2927",
   "metadata": {},
   "outputs": [
    {
     "name": "stdout",
     "output_type": "stream",
     "text": [
      "315 μs ± 10.2 μs per loop (mean ± std. dev. of 7 runs, 1,000 loops each)\n"
     ]
    }
   ],
   "source": [
    "%timeit xgb_preds = xgb_model.predict(test)"
   ]
  },
  {
   "cell_type": "code",
   "execution_count": 47,
   "id": "fb703674-c126-4b94-919d-dea30a0af5e2",
   "metadata": {},
   "outputs": [
    {
     "name": "stdout",
     "output_type": "stream",
     "text": [
      "{'f1': 0.8, 'precision': 0.79, 'recall': 0.81}\n"
     ]
    }
   ],
   "source": [
    "test_models_hyperparams(y_test,xgb_preds)"
   ]
  },
  {
   "cell_type": "code",
   "execution_count": null,
   "id": "249c0852-e9b7-41a3-96db-6dda22c91b47",
   "metadata": {},
   "outputs": [],
   "source": []
  }
 ],
 "metadata": {
  "kernelspec": {
   "display_name": "Python 3 (ipykernel)",
   "language": "python",
   "name": "python3"
  },
  "language_info": {
   "codemirror_mode": {
    "name": "ipython",
    "version": 3
   },
   "file_extension": ".py",
   "mimetype": "text/x-python",
   "name": "python",
   "nbconvert_exporter": "python",
   "pygments_lexer": "ipython3",
   "version": "3.12.7"
  }
 },
 "nbformat": 4,
 "nbformat_minor": 5
}
